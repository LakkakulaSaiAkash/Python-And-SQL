{
  "nbformat": 4,
  "nbformat_minor": 0,
  "metadata": {
    "colab": {
      "provenance": []
    },
    "kernelspec": {
      "name": "python3",
      "display_name": "Python 3"
    },
    "language_info": {
      "name": "python"
    }
  },
  "cells": [
    {
      "cell_type": "code",
      "execution_count": 1,
      "metadata": {
        "id": "0pGj7hbh2a2-"
      },
      "outputs": [],
      "source": [
        "from pyspark.sql import SparkSession"
      ]
    },
    {
      "cell_type": "code",
      "source": [
        "spark = SparkSession.builder.appName('Assessment_4').getOrCreate()"
      ],
      "metadata": {
        "id": "5j2OoE7l39DD"
      },
      "execution_count": 2,
      "outputs": []
    },
    {
      "cell_type": "code",
      "source": [
        "data = spark.read.csv(path='/content/used_car_sales.csv',header=True,inferSchema=True)"
      ],
      "metadata": {
        "id": "NuyhA8rD4Gzh"
      },
      "execution_count": 3,
      "outputs": []
    },
    {
      "cell_type": "code",
      "source": [
        "data.show(3)"
      ],
      "metadata": {
        "colab": {
          "base_uri": "https://localhost:8080/"
        },
        "id": "Py5OoTlq4Ofm",
        "outputId": "32c5595a-6935-4ccc-829a-a388c0587541"
      },
      "execution_count": 4,
      "outputs": [
        {
          "output_type": "stream",
          "name": "stdout",
          "text": [
            "+------+----------------+--------------+--------+-----------------+---------+-----+---------+---------------+---------------+------+-----------------+-------+----------+---------------+--------------+---------------+----------+-----------------+------------+--------+----------------+------------+------------------+--------+\n",
            "|    ID|Distributor Name|      Location|Car Name|Manufacturer Name| Car Type|Color|  Gearbox|Number of Seats|Number of Doors|Energy|Manufactured Year|Price-$|Mileage-KM|Engine Power-HP|Purchased Date|Car Sale Status| Sold Date|Purchased Price-$|Sold Price-$|Margin-%|Sales Agent Name|Sales Rating|Sales Commission-$|Feedback|\n",
            "+------+----------------+--------------+--------+-----------------+---------+-----+---------+---------------+---------------+------+-----------------+-------+----------+---------------+--------------+---------------+----------+-----------------+------------+--------+----------------+------------+------------------+--------+\n",
            "|O2KE18|         Carmudi|    California|Fortuner|           Toyota|      SUV| Gray|Automatic|              8|              5|Hybrid|             2021|   8800|     67948|            200|    26-10-2022|        Un Sold|01-01-1970|             8296|           0|       0|          Pranav|           1|                 0| Average|\n",
            "|EPMPC8|       Carousell|  Philadelphia|   Creta|          Hyundai|Hatchback| Blue|Automatic|              5|              5|Hybrid|             2018|   7600|     34637|            113|    25-08-2017|           Sold|03-03-2021|             5659|        4770|     -16|          Vihaan|           5|                 0|    Good|\n",
            "|SQKXAP|         Carsome|North Carolina| Scorpio|         Mahindra|      SUV| Gray|Automatic|              5|              5|Hybrid|             2016|   9300|     33274|            120|    13-06-2018|        Un Sold|01-01-1970|             8430|           0|       0|          Aarush|           4|                 0|    Good|\n",
            "+------+----------------+--------------+--------+-----------------+---------+-----+---------+---------------+---------------+------+-----------------+-------+----------+---------------+--------------+---------------+----------+-----------------+------------+--------+----------------+------------+------------------+--------+\n",
            "only showing top 3 rows\n",
            "\n"
          ]
        }
      ]
    },
    {
      "cell_type": "code",
      "source": [
        "data.printSchema()"
      ],
      "metadata": {
        "colab": {
          "base_uri": "https://localhost:8080/"
        },
        "id": "BV7U2tXy4Pgr",
        "outputId": "c3340280-daa0-4dee-ac33-fec18fbe5d75"
      },
      "execution_count": 5,
      "outputs": [
        {
          "output_type": "stream",
          "name": "stdout",
          "text": [
            "root\n",
            " |-- ID: string (nullable = true)\n",
            " |-- Distributor Name: string (nullable = true)\n",
            " |-- Location: string (nullable = true)\n",
            " |-- Car Name: string (nullable = true)\n",
            " |-- Manufacturer Name: string (nullable = true)\n",
            " |-- Car Type: string (nullable = true)\n",
            " |-- Color: string (nullable = true)\n",
            " |-- Gearbox: string (nullable = true)\n",
            " |-- Number of Seats: integer (nullable = true)\n",
            " |-- Number of Doors: integer (nullable = true)\n",
            " |-- Energy: string (nullable = true)\n",
            " |-- Manufactured Year: integer (nullable = true)\n",
            " |-- Price-$: integer (nullable = true)\n",
            " |-- Mileage-KM: integer (nullable = true)\n",
            " |-- Engine Power-HP: integer (nullable = true)\n",
            " |-- Purchased Date: string (nullable = true)\n",
            " |-- Car Sale Status: string (nullable = true)\n",
            " |-- Sold Date: string (nullable = true)\n",
            " |-- Purchased Price-$: integer (nullable = true)\n",
            " |-- Sold Price-$: integer (nullable = true)\n",
            " |-- Margin-%: integer (nullable = true)\n",
            " |-- Sales Agent Name: string (nullable = true)\n",
            " |-- Sales Rating: integer (nullable = true)\n",
            " |-- Sales Commission-$: integer (nullable = true)\n",
            " |-- Feedback: string (nullable = true)\n",
            "\n"
          ]
        }
      ]
    },
    {
      "cell_type": "code",
      "source": [
        "from pyspark.sql.functions import col,replace\n",
        "\n",
        "data = data.select([col(new_col).alias(new_col.replace(\" \",\"_\")) for new_col in data.columns])"
      ],
      "metadata": {
        "id": "nHWE9y6u_444"
      },
      "execution_count": 6,
      "outputs": []
    },
    {
      "cell_type": "code",
      "source": [
        "data.show(5)"
      ],
      "metadata": {
        "colab": {
          "base_uri": "https://localhost:8080/"
        },
        "id": "5o8Z-_lBAc5q",
        "outputId": "9544ea2d-010f-4e25-ac48-c5128f807ace"
      },
      "execution_count": 7,
      "outputs": [
        {
          "output_type": "stream",
          "name": "stdout",
          "text": [
            "+------+----------------+--------------+--------+-----------------+-----------+-----+---------+---------------+---------------+--------+-----------------+-------+----------+---------------+--------------+---------------+----------+-----------------+------------+--------+----------------+------------+------------------+--------+\n",
            "|    ID|Distributor_Name|      Location|Car_Name|Manufacturer_Name|   Car_Type|Color|  Gearbox|Number_of_Seats|Number_of_Doors|  Energy|Manufactured_Year|Price-$|Mileage-KM|Engine_Power-HP|Purchased_Date|Car_Sale_Status| Sold_Date|Purchased_Price-$|Sold_Price-$|Margin-%|Sales_Agent_Name|Sales_Rating|Sales_Commission-$|Feedback|\n",
            "+------+----------------+--------------+--------+-----------------+-----------+-----+---------+---------------+---------------+--------+-----------------+-------+----------+---------------+--------------+---------------+----------+-----------------+------------+--------+----------------+------------+------------------+--------+\n",
            "|O2KE18|         Carmudi|    California|Fortuner|           Toyota|        SUV| Gray|Automatic|              8|              5|  Hybrid|             2021|   8800|     67948|            200|    26-10-2022|        Un Sold|01-01-1970|             8296|           0|       0|          Pranav|           1|                 0| Average|\n",
            "|EPMPC8|       Carousell|  Philadelphia|   Creta|          Hyundai|  Hatchback| Blue|Automatic|              5|              5|  Hybrid|             2018|   7600|     34637|            113|    25-08-2017|           Sold|03-03-2021|             5659|        4770|     -16|          Vihaan|           5|                 0|    Good|\n",
            "|SQKXAP|         Carsome|North Carolina| Scorpio|         Mahindra|        SUV| Gray|Automatic|              5|              5|  Hybrid|             2016|   9300|     33274|            120|    13-06-2018|        Un Sold|01-01-1970|             8430|           0|       0|          Aarush|           4|                 0|    Good|\n",
            "|PWP2QK|         Trivett|North Carolina|   Plato|            Prazo|Convertible| Gray|Automatic|              2|              2|  Petrol|             2021|   8800|     46250|            250|    14-05-2023|           Sold|02-04-2024|             6919|        7942|      15|         Anushka|           1|               205| Average|\n",
            "|FNDDKM|           Zupps|      Portland|   Dzire|           Maruti|      Sedan|  Red|Automatic|              5|              5|Electric|             2019|   8500|     29323|            100|    24-08-2022|        Un Sold|01-01-1970|             6864|           0|       0|           Pavan|           3|                 0|    Poor|\n",
            "+------+----------------+--------------+--------+-----------------+-----------+-----+---------+---------------+---------------+--------+-----------------+-------+----------+---------------+--------------+---------------+----------+-----------------+------------+--------+----------------+------------+------------------+--------+\n",
            "only showing top 5 rows\n",
            "\n"
          ]
        }
      ]
    },
    {
      "cell_type": "code",
      "source": [
        "# as alphanumeric string is difficult for joining any other operation we'll add surrogate key\n",
        "\n",
        "from pyspark.sql.functions import monotonically_increasing_id\n",
        "\n",
        "data = data.withColumn('new_id',monotonically_increasing_id()+1)"
      ],
      "metadata": {
        "id": "teQ2KgpJBY8u"
      },
      "execution_count": 8,
      "outputs": []
    },
    {
      "cell_type": "code",
      "source": [
        "from pyspark.sql.functions import isnull\n",
        "\n",
        "null_check = [col(check).isNull() for check in data.columns]"
      ],
      "metadata": {
        "id": "exP84eBRFXRd"
      },
      "execution_count": 9,
      "outputs": []
    },
    {
      "cell_type": "code",
      "source": [
        "null_check"
      ],
      "metadata": {
        "colab": {
          "base_uri": "https://localhost:8080/"
        },
        "id": "O9Hv_-kuFiuh",
        "outputId": "a83692c3-2063-4878-aae0-a5436f78841b"
      },
      "execution_count": 10,
      "outputs": [
        {
          "output_type": "execute_result",
          "data": {
            "text/plain": [
              "[Column<'(ID IS NULL)'>,\n",
              " Column<'(Distributor_Name IS NULL)'>,\n",
              " Column<'(Location IS NULL)'>,\n",
              " Column<'(Car_Name IS NULL)'>,\n",
              " Column<'(Manufacturer_Name IS NULL)'>,\n",
              " Column<'(Car_Type IS NULL)'>,\n",
              " Column<'(Color IS NULL)'>,\n",
              " Column<'(Gearbox IS NULL)'>,\n",
              " Column<'(Number_of_Seats IS NULL)'>,\n",
              " Column<'(Number_of_Doors IS NULL)'>,\n",
              " Column<'(Energy IS NULL)'>,\n",
              " Column<'(Manufactured_Year IS NULL)'>,\n",
              " Column<'(Price-$ IS NULL)'>,\n",
              " Column<'(Mileage-KM IS NULL)'>,\n",
              " Column<'(Engine_Power-HP IS NULL)'>,\n",
              " Column<'(Purchased_Date IS NULL)'>,\n",
              " Column<'(Car_Sale_Status IS NULL)'>,\n",
              " Column<'(Sold_Date IS NULL)'>,\n",
              " Column<'(Purchased_Price-$ IS NULL)'>,\n",
              " Column<'(Sold_Price-$ IS NULL)'>,\n",
              " Column<'(Margin-% IS NULL)'>,\n",
              " Column<'(Sales_Agent_Name IS NULL)'>,\n",
              " Column<'(Sales_Rating IS NULL)'>,\n",
              " Column<'(Sales_Commission-$ IS NULL)'>,\n",
              " Column<'(Feedback IS NULL)'>,\n",
              " Column<'(new_id IS NULL)'>]"
            ]
          },
          "metadata": {},
          "execution_count": 10
        }
      ]
    },
    {
      "cell_type": "code",
      "source": [
        "from pyspark.sql.functions import sum,isnull\n",
        "\n",
        "null_counts = data.select([sum(col(c).isNull().cast(\"int\")).alias(c) for c in data.columns])\n",
        "\n",
        "\n",
        "null_counts.show()"
      ],
      "metadata": {
        "colab": {
          "base_uri": "https://localhost:8080/"
        },
        "id": "XYGpHStUGHAr",
        "outputId": "a9099d8f-8d00-443e-84e4-280e6e2ae9fd"
      },
      "execution_count": 11,
      "outputs": [
        {
          "output_type": "stream",
          "name": "stdout",
          "text": [
            "+---+----------------+--------+--------+-----------------+--------+-----+-------+---------------+---------------+------+-----------------+-------+----------+---------------+--------------+---------------+---------+-----------------+------------+--------+----------------+------------+------------------+--------+------+\n",
            "| ID|Distributor_Name|Location|Car_Name|Manufacturer_Name|Car_Type|Color|Gearbox|Number_of_Seats|Number_of_Doors|Energy|Manufactured_Year|Price-$|Mileage-KM|Engine_Power-HP|Purchased_Date|Car_Sale_Status|Sold_Date|Purchased_Price-$|Sold_Price-$|Margin-%|Sales_Agent_Name|Sales_Rating|Sales_Commission-$|Feedback|new_id|\n",
            "+---+----------------+--------+--------+-----------------+--------+-----+-------+---------------+---------------+------+-----------------+-------+----------+---------------+--------------+---------------+---------+-----------------+------------+--------+----------------+------------+------------------+--------+------+\n",
            "|  0|               0|       0|       0|                0|       0|    0|      0|              0|              0|     0|                0|      0|         0|              0|             0|              0|        0|                0|           0|       0|               0|           0|                 0|       0|     0|\n",
            "+---+----------------+--------+--------+-----------------+--------+-----+-------+---------------+---------------+------+-----------------+-------+----------+---------------+--------------+---------------+---------+-----------------+------------+--------+----------------+------------+------------------+--------+------+\n",
            "\n"
          ]
        }
      ]
    },
    {
      "cell_type": "code",
      "source": [
        "# now adding this surrogate key to the dimension tables\n",
        "\n",
        "car_dimension_dataset = data.select('new_ID',\n",
        "                                    'ID',\n",
        "                                    'Car_Name',\n",
        "\n",
        "                                    'Manufacturer_Name',\n",
        "                                    'Car_Type',\n",
        "                                    'Color')\n",
        "\n",
        "\n",
        "car_dimension_dataset.show(4)"
      ],
      "metadata": {
        "colab": {
          "base_uri": "https://localhost:8080/"
        },
        "id": "RY6jQBIIB0kt",
        "outputId": "524cbf65-f957-491f-d651-9b60800041db"
      },
      "execution_count": 12,
      "outputs": [
        {
          "output_type": "stream",
          "name": "stdout",
          "text": [
            "+------+------+--------+-----------------+-----------+-----+\n",
            "|new_ID|    ID|Car_Name|Manufacturer_Name|   Car_Type|Color|\n",
            "+------+------+--------+-----------------+-----------+-----+\n",
            "|     1|O2KE18|Fortuner|           Toyota|        SUV| Gray|\n",
            "|     2|EPMPC8|   Creta|          Hyundai|  Hatchback| Blue|\n",
            "|     3|SQKXAP| Scorpio|         Mahindra|        SUV| Gray|\n",
            "|     4|PWP2QK|   Plato|            Prazo|Convertible| Gray|\n",
            "+------+------+--------+-----------------+-----------+-----+\n",
            "only showing top 4 rows\n",
            "\n"
          ]
        }
      ]
    },
    {
      "cell_type": "code",
      "source": [
        "distributor_dimension = data.select('new_ID',\n",
        "                                    'ID',\n",
        "                                    'Distributor_Name',\n",
        "                                    'Location')\n",
        "\n",
        "distributor_dimension.show(4)"
      ],
      "metadata": {
        "colab": {
          "base_uri": "https://localhost:8080/"
        },
        "id": "Pot92zUbCfI1",
        "outputId": "a59193e5-2523-4f71-90c0-c416bc4be84b"
      },
      "execution_count": 13,
      "outputs": [
        {
          "output_type": "stream",
          "name": "stdout",
          "text": [
            "+------+------+----------------+--------------+\n",
            "|new_ID|    ID|Distributor_Name|      Location|\n",
            "+------+------+----------------+--------------+\n",
            "|     1|O2KE18|         Carmudi|    California|\n",
            "|     2|EPMPC8|       Carousell|  Philadelphia|\n",
            "|     3|SQKXAP|         Carsome|North Carolina|\n",
            "|     4|PWP2QK|         Trivett|North Carolina|\n",
            "+------+------+----------------+--------------+\n",
            "only showing top 4 rows\n",
            "\n"
          ]
        }
      ]
    },
    {
      "cell_type": "markdown",
      "source": [
        "**SYNTAX for JOIN**\n",
        "\n",
        "```\n",
        "result_df = df1.join(df2, df1[\"common_column\"] == df2[\"common_column\"], \"join_type\")\n",
        "\n",
        "```\n",
        "\n"
      ],
      "metadata": {
        "id": "c3f2YdUVgtNv"
      }
    },
    {
      "cell_type": "code",
      "source": [
        "joined_new_data = car_dimension_dataset.join(distributor_dimension,car_dimension_dataset['new_ID']==distributor_dimension['new_ID'],\"Inner\")\n",
        "\n",
        "joined_new_data.show(4)"
      ],
      "metadata": {
        "colab": {
          "base_uri": "https://localhost:8080/"
        },
        "id": "zboZAcyxhgDY",
        "outputId": "1c26b8bc-f04d-4bdc-cee7-9c2345101f1e"
      },
      "execution_count": 14,
      "outputs": [
        {
          "output_type": "stream",
          "name": "stdout",
          "text": [
            "+------+------+--------+-----------------+-----------+-----+------+------+----------------+--------------+\n",
            "|new_ID|    ID|Car_Name|Manufacturer_Name|   Car_Type|Color|new_ID|    ID|Distributor_Name|      Location|\n",
            "+------+------+--------+-----------------+-----------+-----+------+------+----------------+--------------+\n",
            "|     1|O2KE18|Fortuner|           Toyota|        SUV| Gray|     1|O2KE18|         Carmudi|    California|\n",
            "|     2|EPMPC8|   Creta|          Hyundai|  Hatchback| Blue|     2|EPMPC8|       Carousell|  Philadelphia|\n",
            "|     3|SQKXAP| Scorpio|         Mahindra|        SUV| Gray|     3|SQKXAP|         Carsome|North Carolina|\n",
            "|     4|PWP2QK|   Plato|            Prazo|Convertible| Gray|     4|PWP2QK|         Trivett|North Carolina|\n",
            "+------+------+--------+-----------------+-----------+-----+------+------+----------------+--------------+\n",
            "only showing top 4 rows\n",
            "\n"
          ]
        }
      ]
    },
    {
      "cell_type": "code",
      "source": [
        "joined_data = car_dimension_dataset.alias('car').join(distributor_dimension.alias('Dis'), on='new_ID',how='inner').\\\n",
        "select(col('car.new_ID'),\n",
        "        col('car.ID'),\n",
        "        col('car.Car_Name'),\n",
        "        col('car.Car_Type'),\n",
        "        col('car.Manufacturer_Name'),\n",
        "        col('car.Color'),\n",
        "        col('Dis.Distributor_Name'),\n",
        "        col('Dis.Location'))"
      ],
      "metadata": {
        "id": "xWNNKlvXC1Vm"
      },
      "execution_count": 15,
      "outputs": []
    },
    {
      "cell_type": "code",
      "source": [
        "joined_data.show(4)"
      ],
      "metadata": {
        "colab": {
          "base_uri": "https://localhost:8080/"
        },
        "id": "Ssk8f10JgEsy",
        "outputId": "8c7086d0-38de-44b0-cdef-f4461e2dd102"
      },
      "execution_count": 16,
      "outputs": [
        {
          "output_type": "stream",
          "name": "stdout",
          "text": [
            "+------+------+--------+-----------+-----------------+-----+----------------+--------------+\n",
            "|new_ID|    ID|Car_Name|   Car_Type|Manufacturer_Name|Color|Distributor_Name|      Location|\n",
            "+------+------+--------+-----------+-----------------+-----+----------------+--------------+\n",
            "|     1|O2KE18|Fortuner|        SUV|           Toyota| Gray|         Carmudi|    California|\n",
            "|     2|EPMPC8|   Creta|  Hatchback|          Hyundai| Blue|       Carousell|  Philadelphia|\n",
            "|     3|SQKXAP| Scorpio|        SUV|         Mahindra| Gray|         Carsome|North Carolina|\n",
            "|     4|PWP2QK|   Plato|Convertible|            Prazo| Gray|         Trivett|North Carolina|\n",
            "+------+------+--------+-----------+-----------------+-----+----------------+--------------+\n",
            "only showing top 4 rows\n",
            "\n"
          ]
        }
      ]
    },
    {
      "cell_type": "markdown",
      "source": [
        "But the first JOIN method is much effective when:\n",
        "\n",
        "\n",
        "\n",
        "*   **Column names differ in the two DataFrames (e.g., df1[\"new_ID\"] and df2[\"new_ID\"]).**\n",
        "*  **You need to join on multiple conditions (e.g., df1[\"ID\"] == df2[\"ID\"] & df1[\"Name\"] == df2[\"Name\"]).**\n",
        "*  **The common column is not named the same in both DataFrames.**\n",
        "\n",
        "Other wise 2nd Join is much faster\n"
      ],
      "metadata": {
        "id": "rUfDCHUEh6P3"
      }
    },
    {
      "cell_type": "code",
      "source": [
        "joined_data.write.parquet(path=\"/content/transformed_data.parquet\")"
      ],
      "metadata": {
        "id": "Z9F5SyCthDdc"
      },
      "execution_count": 17,
      "outputs": []
    },
    {
      "cell_type": "code",
      "source": [
        "external_data =  [\n",
        "    (1, \"Toyota Corolla\", \"Sedan\", \"Toyota\", \"Red\", 20000),\n",
        "    (2, \"Honda Civic\", None, \"Honda\", \"Blue\", 22000),  # Null in Car_Type\n",
        "    (3, None, \"SUV\", \"Ford\", \"Black\", 25000),          # Null in Car_Name\n",
        "    (4, \"Tesla Model 3\", \"Sedan\", \"Tesla\", None, 40000), # Null in Color\n",
        "    (5, \"BMW X5\", \"SUV\", \"BMW\", \"White\", None)         # Null in Price\n",
        "]"
      ],
      "metadata": {
        "id": "Yzl30TexjM-y"
      },
      "execution_count": 18,
      "outputs": []
    },
    {
      "cell_type": "code",
      "source": [
        "from pyspark.sql.types import StructType, StructField, IntegerType, StringType"
      ],
      "metadata": {
        "id": "F1EHftzqpU6J"
      },
      "execution_count": 19,
      "outputs": []
    },
    {
      "cell_type": "code",
      "source": [
        "schema = StructType([StructField(\"ID\",IntegerType()),\n",
        "                     StructField(\"Car_Name\",StringType()),\n",
        "                     StructField('Model',StringType()),\n",
        "                     StructField(\"Company\",StringType()),\n",
        "                     StructField(\"Color\",StringType()),\n",
        "                     StructField(\"Price($)\",IntegerType())])"
      ],
      "metadata": {
        "id": "uVsFk8dlpZC4"
      },
      "execution_count": 24,
      "outputs": []
    },
    {
      "cell_type": "code",
      "source": [
        "df = spark.createDataFrame(data=external_data,schema=schema)"
      ],
      "metadata": {
        "id": "dOkVWrd2nsTR"
      },
      "execution_count": 25,
      "outputs": []
    },
    {
      "cell_type": "code",
      "source": [
        "df.show()"
      ],
      "metadata": {
        "colab": {
          "base_uri": "https://localhost:8080/"
        },
        "id": "FvkntwzC2V-v",
        "outputId": "6bf11012-7524-4af8-fe62-2d2d38c64214"
      },
      "execution_count": 39,
      "outputs": [
        {
          "output_type": "stream",
          "name": "stdout",
          "text": [
            "+---+--------------+-----+-------+-----+--------+\n",
            "| ID|      Car_Name|Model|Company|Color|Price($)|\n",
            "+---+--------------+-----+-------+-----+--------+\n",
            "|  1|Toyota Corolla|Sedan| Toyota|  Red|   20000|\n",
            "|  2|   Honda Civic| NULL|  Honda| Blue|   22000|\n",
            "|  3|          NULL|  SUV|   Ford|Black|   25000|\n",
            "|  4| Tesla Model 3|Sedan|  Tesla| NULL|   40000|\n",
            "|  5|        BMW X5|  SUV|    BMW|White|    NULL|\n",
            "+---+--------------+-----+-------+-----+--------+\n",
            "\n"
          ]
        }
      ]
    },
    {
      "cell_type": "code",
      "source": [
        "df.printSchema()"
      ],
      "metadata": {
        "colab": {
          "base_uri": "https://localhost:8080/"
        },
        "id": "jg7oAstnn8on",
        "outputId": "ab2144d0-e90b-44b3-bb91-6ec564a042e5"
      },
      "execution_count": 26,
      "outputs": [
        {
          "output_type": "stream",
          "name": "stdout",
          "text": [
            "root\n",
            " |-- ID: integer (nullable = true)\n",
            " |-- Car_Name: string (nullable = true)\n",
            " |-- Model: string (nullable = true)\n",
            " |-- Company: string (nullable = true)\n",
            " |-- Color: string (nullable = true)\n",
            " |-- Price($): integer (nullable = true)\n",
            "\n"
          ]
        }
      ]
    },
    {
      "cell_type": "markdown",
      "source": [
        "\n",
        "\n",
        "```\n",
        "df_filled = df.fillna({\"column_name1\": value1, \"column_name2\": value2})\n",
        "\n",
        "```\n",
        "\n"
      ],
      "metadata": {
        "id": "SXO0BqfoXYMu"
      }
    },
    {
      "cell_type": "markdown",
      "source": [
        "Since PySpark does not have a median() function, we use approxQuantile(), which is efficient for large datasets.\n",
        "\n",
        "approxQuantile() is fast and works on big data.\n",
        "\n",
        "\n",
        "\n",
        "```\n",
        "# Compute Median (50th percentile)\n",
        "median_value = df.approxQuantile(\"Price($)\", [0.5], 0.01)[0]  # 0.5 = median\n",
        "\n",
        "```\n",
        "\n"
      ],
      "metadata": {
        "id": "9EAbUc23iec4"
      }
    },
    {
      "cell_type": "code",
      "source": [
        "# from pyspark.sql.functions import percentile_approx,col,expr\n",
        "\n",
        "# median_price = df.select(expr('median(col(\"Price($)\"))'))\n",
        "# median_price"
      ],
      "metadata": {
        "colab": {
          "base_uri": "https://localhost:8080/",
          "height": 356
        },
        "id": "PGNmb4BOpS46",
        "outputId": "bb4c1208-de19-4f14-fb04-a6acf6ad0996"
      },
      "execution_count": 38,
      "outputs": [
        {
          "output_type": "error",
          "ename": "AnalysisException",
          "evalue": "[UNRESOLVED_ROUTINE] Cannot resolve function `col` on search path [`system`.`builtin`, `system`.`session`, `spark_catalog`.`default`].; line 1 pos 7",
          "traceback": [
            "\u001b[0;31m---------------------------------------------------------------------------\u001b[0m",
            "\u001b[0;31mAnalysisException\u001b[0m                         Traceback (most recent call last)",
            "\u001b[0;32m<ipython-input-38-9d12ba081be6>\u001b[0m in \u001b[0;36m<cell line: 0>\u001b[0;34m()\u001b[0m\n\u001b[1;32m      1\u001b[0m \u001b[0;32mfrom\u001b[0m \u001b[0mpyspark\u001b[0m\u001b[0;34m.\u001b[0m\u001b[0msql\u001b[0m\u001b[0;34m.\u001b[0m\u001b[0mfunctions\u001b[0m \u001b[0;32mimport\u001b[0m \u001b[0mmedian\u001b[0m\u001b[0;34m,\u001b[0m\u001b[0mcol\u001b[0m\u001b[0;34m,\u001b[0m\u001b[0mexpr\u001b[0m\u001b[0;34m\u001b[0m\u001b[0;34m\u001b[0m\u001b[0m\n\u001b[1;32m      2\u001b[0m \u001b[0;34m\u001b[0m\u001b[0m\n\u001b[0;32m----> 3\u001b[0;31m \u001b[0mmedian_price\u001b[0m \u001b[0;34m=\u001b[0m \u001b[0mdf\u001b[0m\u001b[0;34m.\u001b[0m\u001b[0mselect\u001b[0m\u001b[0;34m(\u001b[0m\u001b[0mexpr\u001b[0m\u001b[0;34m(\u001b[0m\u001b[0;34m'median(col(\"Price($)\"))'\u001b[0m\u001b[0;34m)\u001b[0m\u001b[0;34m)\u001b[0m\u001b[0;34m\u001b[0m\u001b[0;34m\u001b[0m\u001b[0m\n\u001b[0m\u001b[1;32m      4\u001b[0m \u001b[0mmedian_price\u001b[0m\u001b[0;34m\u001b[0m\u001b[0;34m\u001b[0m\u001b[0m\n",
            "\u001b[0;32m/usr/local/lib/python3.11/dist-packages/pyspark/sql/dataframe.py\u001b[0m in \u001b[0;36mselect\u001b[0;34m(self, *cols)\u001b[0m\n\u001b[1;32m   3227\u001b[0m         \u001b[0;34m+\u001b[0m\u001b[0;34m-\u001b[0m\u001b[0;34m-\u001b[0m\u001b[0;34m-\u001b[0m\u001b[0;34m-\u001b[0m\u001b[0;34m-\u001b[0m\u001b[0;34m+\u001b[0m\u001b[0;34m-\u001b[0m\u001b[0;34m-\u001b[0m\u001b[0;34m-\u001b[0m\u001b[0;34m+\u001b[0m\u001b[0;34m\u001b[0m\u001b[0;34m\u001b[0m\u001b[0m\n\u001b[1;32m   3228\u001b[0m         \"\"\"\n\u001b[0;32m-> 3229\u001b[0;31m         \u001b[0mjdf\u001b[0m \u001b[0;34m=\u001b[0m \u001b[0mself\u001b[0m\u001b[0;34m.\u001b[0m\u001b[0m_jdf\u001b[0m\u001b[0;34m.\u001b[0m\u001b[0mselect\u001b[0m\u001b[0;34m(\u001b[0m\u001b[0mself\u001b[0m\u001b[0;34m.\u001b[0m\u001b[0m_jcols\u001b[0m\u001b[0;34m(\u001b[0m\u001b[0;34m*\u001b[0m\u001b[0mcols\u001b[0m\u001b[0;34m)\u001b[0m\u001b[0;34m)\u001b[0m\u001b[0;34m\u001b[0m\u001b[0;34m\u001b[0m\u001b[0m\n\u001b[0m\u001b[1;32m   3230\u001b[0m         \u001b[0;32mreturn\u001b[0m \u001b[0mDataFrame\u001b[0m\u001b[0;34m(\u001b[0m\u001b[0mjdf\u001b[0m\u001b[0;34m,\u001b[0m \u001b[0mself\u001b[0m\u001b[0;34m.\u001b[0m\u001b[0msparkSession\u001b[0m\u001b[0;34m)\u001b[0m\u001b[0;34m\u001b[0m\u001b[0;34m\u001b[0m\u001b[0m\n\u001b[1;32m   3231\u001b[0m \u001b[0;34m\u001b[0m\u001b[0m\n",
            "\u001b[0;32m/usr/local/lib/python3.11/dist-packages/py4j/java_gateway.py\u001b[0m in \u001b[0;36m__call__\u001b[0;34m(self, *args)\u001b[0m\n\u001b[1;32m   1320\u001b[0m \u001b[0;34m\u001b[0m\u001b[0m\n\u001b[1;32m   1321\u001b[0m         \u001b[0manswer\u001b[0m \u001b[0;34m=\u001b[0m \u001b[0mself\u001b[0m\u001b[0;34m.\u001b[0m\u001b[0mgateway_client\u001b[0m\u001b[0;34m.\u001b[0m\u001b[0msend_command\u001b[0m\u001b[0;34m(\u001b[0m\u001b[0mcommand\u001b[0m\u001b[0;34m)\u001b[0m\u001b[0;34m\u001b[0m\u001b[0;34m\u001b[0m\u001b[0m\n\u001b[0;32m-> 1322\u001b[0;31m         return_value = get_return_value(\n\u001b[0m\u001b[1;32m   1323\u001b[0m             answer, self.gateway_client, self.target_id, self.name)\n\u001b[1;32m   1324\u001b[0m \u001b[0;34m\u001b[0m\u001b[0m\n",
            "\u001b[0;32m/usr/local/lib/python3.11/dist-packages/pyspark/errors/exceptions/captured.py\u001b[0m in \u001b[0;36mdeco\u001b[0;34m(*a, **kw)\u001b[0m\n\u001b[1;32m    183\u001b[0m                 \u001b[0;31m# Hide where the exception came from that shows a non-Pythonic\u001b[0m\u001b[0;34m\u001b[0m\u001b[0;34m\u001b[0m\u001b[0m\n\u001b[1;32m    184\u001b[0m                 \u001b[0;31m# JVM exception message.\u001b[0m\u001b[0;34m\u001b[0m\u001b[0;34m\u001b[0m\u001b[0m\n\u001b[0;32m--> 185\u001b[0;31m                 \u001b[0;32mraise\u001b[0m \u001b[0mconverted\u001b[0m \u001b[0;32mfrom\u001b[0m \u001b[0;32mNone\u001b[0m\u001b[0;34m\u001b[0m\u001b[0;34m\u001b[0m\u001b[0m\n\u001b[0m\u001b[1;32m    186\u001b[0m             \u001b[0;32melse\u001b[0m\u001b[0;34m:\u001b[0m\u001b[0;34m\u001b[0m\u001b[0;34m\u001b[0m\u001b[0m\n\u001b[1;32m    187\u001b[0m                 \u001b[0;32mraise\u001b[0m\u001b[0;34m\u001b[0m\u001b[0;34m\u001b[0m\u001b[0m\n",
            "\u001b[0;31mAnalysisException\u001b[0m: [UNRESOLVED_ROUTINE] Cannot resolve function `col` on search path [`system`.`builtin`, `system`.`session`, `spark_catalog`.`default`].; line 1 pos 7"
          ]
        }
      ]
    },
    {
      "cell_type": "code",
      "source": [
        "df1 = df.fillna({\"Price($)\":-1})"
      ],
      "metadata": {
        "id": "NyEuV5I9hE8k"
      },
      "execution_count": 40,
      "outputs": []
    },
    {
      "cell_type": "code",
      "source": [
        "df1.show()"
      ],
      "metadata": {
        "colab": {
          "base_uri": "https://localhost:8080/"
        },
        "id": "tHls7HgA2hXb",
        "outputId": "4bd55611-1692-4a15-8d29-a62f6b49cd18"
      },
      "execution_count": 42,
      "outputs": [
        {
          "output_type": "stream",
          "name": "stdout",
          "text": [
            "+---+--------------+-----+-------+-----+--------+\n",
            "| ID|      Car_Name|Model|Company|Color|Price($)|\n",
            "+---+--------------+-----+-------+-----+--------+\n",
            "|  1|Toyota Corolla|Sedan| Toyota|  Red|   20000|\n",
            "|  2|   Honda Civic| NULL|  Honda| Blue|   22000|\n",
            "|  3|          NULL|  SUV|   Ford|Black|   25000|\n",
            "|  4| Tesla Model 3|Sedan|  Tesla| NULL|   40000|\n",
            "|  5|        BMW X5|  SUV|    BMW|White|      -1|\n",
            "+---+--------------+-----+-------+-----+--------+\n",
            "\n"
          ]
        }
      ]
    },
    {
      "cell_type": "code",
      "source": [
        "df2 = df.dropna(how = 'any',subset = ['Car_Name']) # here 'any' means if any one value is null then the row gets dropped"
      ],
      "metadata": {
        "id": "90PCCUil2iL3"
      },
      "execution_count": 46,
      "outputs": []
    },
    {
      "cell_type": "code",
      "source": [
        "df2.show()"
      ],
      "metadata": {
        "colab": {
          "base_uri": "https://localhost:8080/"
        },
        "id": "QEqYaeC82tn0",
        "outputId": "152dcbc1-e15a-40bc-b842-c89b683fc82b"
      },
      "execution_count": 47,
      "outputs": [
        {
          "output_type": "stream",
          "name": "stdout",
          "text": [
            "+---+--------------+-----+-------+-----+--------+\n",
            "| ID|      Car_Name|Model|Company|Color|Price($)|\n",
            "+---+--------------+-----+-------+-----+--------+\n",
            "|  1|Toyota Corolla|Sedan| Toyota|  Red|   20000|\n",
            "|  2|   Honda Civic| NULL|  Honda| Blue|   22000|\n",
            "|  4| Tesla Model 3|Sedan|  Tesla| NULL|   40000|\n",
            "|  5|        BMW X5|  SUV|    BMW|White|    NULL|\n",
            "+---+--------------+-----+-------+-----+--------+\n",
            "\n"
          ]
        }
      ]
    },
    {
      "cell_type": "code",
      "source": [
        "df3 = df.dropna(how='any',subset=['Car_Name','Model','Color']) # 'all' means all the values must be null inorder to get removed"
      ],
      "metadata": {
        "id": "A1iyV-dT3SVX"
      },
      "execution_count": 55,
      "outputs": []
    },
    {
      "cell_type": "code",
      "source": [
        "df3.show()"
      ],
      "metadata": {
        "colab": {
          "base_uri": "https://localhost:8080/"
        },
        "id": "ubcoW1Wx3cuE",
        "outputId": "e95008c6-d589-4836-bbd4-6843561d7b74"
      },
      "execution_count": 56,
      "outputs": [
        {
          "output_type": "stream",
          "name": "stdout",
          "text": [
            "+---+--------------+-----+-------+-----+--------+\n",
            "| ID|      Car_Name|Model|Company|Color|Price($)|\n",
            "+---+--------------+-----+-------+-----+--------+\n",
            "|  1|Toyota Corolla|Sedan| Toyota|  Red|   20000|\n",
            "|  5|        BMW X5|  SUV|    BMW|White|    NULL|\n",
            "+---+--------------+-----+-------+-----+--------+\n",
            "\n"
          ]
        }
      ]
    },
    {
      "cell_type": "code",
      "source": [],
      "metadata": {
        "id": "TaH8qdy63daq"
      },
      "execution_count": null,
      "outputs": []
    }
  ]
}