{
  "nbformat": 4,
  "nbformat_minor": 0,
  "metadata": {
    "colab": {
      "provenance": []
    },
    "kernelspec": {
      "name": "python3",
      "display_name": "Python 3"
    },
    "language_info": {
      "name": "python"
    }
  },
  "cells": [
    {
      "cell_type": "markdown",
      "source": [
        "Perform groupBy() and agg() functions with multiple aggregations.\n",
        "\n",
        "\n",
        "*  Load a dataset with categorical and numerical data.\n",
        "*  Use groupBy() to group data based on a column.\n",
        "*  Apply multiple aggregations like sum(), avg(), count().\n",
        "*  Display the results in a structured format.\n"
      ],
      "metadata": {
        "id": "uSUaQf8vHPrX"
      }
    },
    {
      "cell_type": "code",
      "execution_count": 2,
      "metadata": {
        "id": "42qbJv1fqkek"
      },
      "outputs": [],
      "source": [
        "from pyspark.sql import SparkSession,Row"
      ]
    },
    {
      "cell_type": "code",
      "source": [
        "spark = SparkSession.builder.appName('Assessment2').getOrCreate()"
      ],
      "metadata": {
        "id": "x3zHUy6BqxxH"
      },
      "execution_count": 3,
      "outputs": []
    },
    {
      "cell_type": "code",
      "source": [
        "my_data = [Row(Name = 'Akash', Mentor = 'GnanaSirisha',stipend=4900),\n",
        "           Row(Name = 'Pavan Kalyan', Mentor = 'Vinay',stipend=5000),\n",
        "           Row(Name = 'Chandrika', Mentor = 'Nusrath',stipend=4600),\n",
        "           Row(Name = 'Sahiti ', Mentor = 'Srinivas',stipend=4500),\n",
        "           Row(Name = 'Venkatesh Mannepati', Mentor = 'GnanaSirisha',stipend=5000),\n",
        "           Row(Name = 'Johnson Gali',Mentor = 'GnanaSirisha',stipend = 4950),\n",
        "           Row(Name = 'Vaishnavi', Mentor = 'Vinay',stipend = 4600),\n",
        "           Row(Name = 'Thanusha', Mentor = 'Pavan', stipend = 0)]"
      ],
      "metadata": {
        "id": "ydr5GkWHrJ5J"
      },
      "execution_count": 8,
      "outputs": []
    },
    {
      "cell_type": "code",
      "source": [
        "from pyspark.sql.types import StructType,StructField, StringType, IntegerType"
      ],
      "metadata": {
        "id": "Jd6Q3atqrrHX"
      },
      "execution_count": 5,
      "outputs": []
    },
    {
      "cell_type": "code",
      "source": [
        "new_schema = StructType([StructField('Name',StringType(),True),\n",
        "                         StructField('Mentor',StringType(),True),\n",
        "                         StructField('Stipend',IntegerType(),True)])"
      ],
      "metadata": {
        "id": "RR83sv1fr67O"
      },
      "execution_count": 15,
      "outputs": []
    },
    {
      "cell_type": "code",
      "source": [
        "my_data_frame = spark.createDataFrame(data = my_data,schema=new_schema)"
      ],
      "metadata": {
        "id": "GnklXDWrtBe0"
      },
      "execution_count": 16,
      "outputs": []
    },
    {
      "cell_type": "code",
      "source": [
        "my_data_frame.show()"
      ],
      "metadata": {
        "colab": {
          "base_uri": "https://localhost:8080/"
        },
        "id": "2sBbaU2ruA3u",
        "outputId": "00dbc1b0-fa81-42cd-c7a3-8752d8bffd5d"
      },
      "execution_count": 17,
      "outputs": [
        {
          "output_type": "stream",
          "name": "stdout",
          "text": [
            "+-------------------+------------+-------+\n",
            "|               Name|      Mentor|Stipend|\n",
            "+-------------------+------------+-------+\n",
            "|              Akash|GnanaSirisha|   4900|\n",
            "|       Pavan Kalyan|       Vinay|   5000|\n",
            "|          Chandrika|     Nusrath|   4600|\n",
            "|            Sahiti |    Srinivas|   4500|\n",
            "|Venkatesh Mannepati|GnanaSirisha|   5000|\n",
            "|       Johnson Gali|GnanaSirisha|   4950|\n",
            "|          Vaishnavi|       Vinay|   4600|\n",
            "|           Thanusha|       Pavan|      0|\n",
            "+-------------------+------------+-------+\n",
            "\n"
          ]
        }
      ]
    },
    {
      "cell_type": "code",
      "source": [
        "display(my_data_frame.groupBy('Mentor'))"
      ],
      "metadata": {
        "colab": {
          "base_uri": "https://localhost:8080/",
          "height": 34
        },
        "id": "8Ed051IPvsl2",
        "outputId": "d8e85255-8cc5-4feb-bdd2-f248f8cab8ad"
      },
      "execution_count": 21,
      "outputs": [
        {
          "output_type": "display_data",
          "data": {
            "text/plain": [
              "GroupedData[grouping expressions: [Mentor], value: [Name: string, Mentor: string ... 1 more field], type: GroupBy]"
            ]
          },
          "metadata": {}
        }
      ]
    },
    {
      "cell_type": "code",
      "source": [
        "# df = spark.read.option('header','true').csv('/content/data.csv')"
      ],
      "metadata": {
        "id": "Tnw9kvgqwGXT"
      },
      "execution_count": 27,
      "outputs": []
    },
    {
      "cell_type": "code",
      "source": [
        "df=spark.read.csv(path = '/content/data.csv',header = 'True')"
      ],
      "metadata": {
        "id": "3g5m-Ya7xZSC"
      },
      "execution_count": 31,
      "outputs": []
    },
    {
      "cell_type": "code",
      "source": [
        "df.show()"
      ],
      "metadata": {
        "colab": {
          "base_uri": "https://localhost:8080/"
        },
        "id": "WJRZOqucxBPf",
        "outputId": "1eabfce8-ca96-4933-ebef-ab21330d0dbc"
      },
      "execution_count": 32,
      "outputs": [
        {
          "output_type": "stream",
          "name": "stdout",
          "text": [
            "+----+----------+----+--------------------+---------+----------------+-----------------+-----------------+---------------+--------------------+------------+-------------+-----------+--------+----------+-----+\n",
            "|Make|     Model|Year|    Engine Fuel Type|Engine HP|Engine Cylinders|Transmission Type|    Driven_Wheels|Number of Doors|     Market Category|Vehicle Size|Vehicle Style|highway MPG|city mpg|Popularity| MSRP|\n",
            "+----+----------+----+--------------------+---------+----------------+-----------------+-----------------+---------------+--------------------+------------+-------------+-----------+--------+----------+-----+\n",
            "| BMW|1 Series M|2011|premium unleaded ...|      335|               6|           MANUAL| rear wheel drive|              2|Factory Tuner,Lux...|     Compact|        Coupe|         26|      19|      3916|46135|\n",
            "| BMW|  1 Series|2011|premium unleaded ...|      300|               6|           MANUAL| rear wheel drive|              2|  Luxury,Performance|     Compact|  Convertible|         28|      19|      3916|40650|\n",
            "| BMW|  1 Series|2011|premium unleaded ...|      300|               6|           MANUAL| rear wheel drive|              2|Luxury,High-Perfo...|     Compact|        Coupe|         28|      20|      3916|36350|\n",
            "| BMW|  1 Series|2011|premium unleaded ...|      230|               6|           MANUAL| rear wheel drive|              2|  Luxury,Performance|     Compact|        Coupe|         28|      18|      3916|29450|\n",
            "| BMW|  1 Series|2011|premium unleaded ...|      230|               6|           MANUAL| rear wheel drive|              2|              Luxury|     Compact|  Convertible|         28|      18|      3916|34500|\n",
            "| BMW|  1 Series|2012|premium unleaded ...|      230|               6|           MANUAL| rear wheel drive|              2|  Luxury,Performance|     Compact|        Coupe|         28|      18|      3916|31200|\n",
            "| BMW|  1 Series|2012|premium unleaded ...|      300|               6|           MANUAL| rear wheel drive|              2|  Luxury,Performance|     Compact|  Convertible|         26|      17|      3916|44100|\n",
            "| BMW|  1 Series|2012|premium unleaded ...|      300|               6|           MANUAL| rear wheel drive|              2|Luxury,High-Perfo...|     Compact|        Coupe|         28|      20|      3916|39300|\n",
            "| BMW|  1 Series|2012|premium unleaded ...|      230|               6|           MANUAL| rear wheel drive|              2|              Luxury|     Compact|  Convertible|         28|      18|      3916|36900|\n",
            "| BMW|  1 Series|2013|premium unleaded ...|      230|               6|           MANUAL| rear wheel drive|              2|              Luxury|     Compact|  Convertible|         27|      18|      3916|37200|\n",
            "| BMW|  1 Series|2013|premium unleaded ...|      300|               6|           MANUAL| rear wheel drive|              2|Luxury,High-Perfo...|     Compact|        Coupe|         28|      20|      3916|39600|\n",
            "| BMW|  1 Series|2013|premium unleaded ...|      230|               6|           MANUAL| rear wheel drive|              2|  Luxury,Performance|     Compact|        Coupe|         28|      19|      3916|31500|\n",
            "| BMW|  1 Series|2013|premium unleaded ...|      300|               6|           MANUAL| rear wheel drive|              2|  Luxury,Performance|     Compact|  Convertible|         28|      19|      3916|44400|\n",
            "| BMW|  1 Series|2013|premium unleaded ...|      230|               6|           MANUAL| rear wheel drive|              2|              Luxury|     Compact|  Convertible|         28|      19|      3916|37200|\n",
            "| BMW|  1 Series|2013|premium unleaded ...|      230|               6|           MANUAL| rear wheel drive|              2|  Luxury,Performance|     Compact|        Coupe|         28|      19|      3916|31500|\n",
            "| BMW|  1 Series|2013|premium unleaded ...|      320|               6|           MANUAL| rear wheel drive|              2|Luxury,High-Perfo...|     Compact|  Convertible|         25|      18|      3916|48250|\n",
            "| BMW|  1 Series|2013|premium unleaded ...|      320|               6|           MANUAL| rear wheel drive|              2|Luxury,High-Perfo...|     Compact|        Coupe|         28|      20|      3916|43550|\n",
            "|Audi|       100|1992|    regular unleaded|      172|               6|           MANUAL|front wheel drive|              4|              Luxury|     Midsize|        Sedan|         24|      17|      3105| 2000|\n",
            "|Audi|       100|1992|    regular unleaded|      172|               6|           MANUAL|front wheel drive|              4|              Luxury|     Midsize|        Sedan|         24|      17|      3105| 2000|\n",
            "|Audi|       100|1992|    regular unleaded|      172|               6|        AUTOMATIC|  all wheel drive|              4|              Luxury|     Midsize|        Wagon|         20|      16|      3105| 2000|\n",
            "+----+----------+----+--------------------+---------+----------------+-----------------+-----------------+---------------+--------------------+------------+-------------+-----------+--------+----------+-----+\n",
            "only showing top 20 rows\n",
            "\n"
          ]
        }
      ]
    },
    {
      "cell_type": "code",
      "source": [
        "df.printSchema()"
      ],
      "metadata": {
        "colab": {
          "base_uri": "https://localhost:8080/"
        },
        "id": "Xx0fQGWn2v9O",
        "outputId": "be6b4e50-9536-45ba-f2c0-4a03c126d1c9"
      },
      "execution_count": 54,
      "outputs": [
        {
          "output_type": "stream",
          "name": "stdout",
          "text": [
            "root\n",
            " |-- Make: string (nullable = true)\n",
            " |-- Model: string (nullable = true)\n",
            " |-- Year: string (nullable = true)\n",
            " |-- Engine Fuel Type: string (nullable = true)\n",
            " |-- Engine HP: string (nullable = true)\n",
            " |-- Engine Cylinders: string (nullable = true)\n",
            " |-- Transmission Type: string (nullable = true)\n",
            " |-- Driven_Wheels: string (nullable = true)\n",
            " |-- Number of Doors: string (nullable = true)\n",
            " |-- Market Category: string (nullable = true)\n",
            " |-- Vehicle Size: string (nullable = true)\n",
            " |-- Vehicle Style: string (nullable = true)\n",
            " |-- highway MPG: string (nullable = true)\n",
            " |-- city mpg: string (nullable = true)\n",
            " |-- Popularity: string (nullable = true)\n",
            " |-- MSRP: string (nullable = true)\n",
            "\n"
          ]
        }
      ]
    },
    {
      "cell_type": "markdown",
      "source": [
        "Total Cars by Company\n"
      ],
      "metadata": {
        "id": "YHULy2k22Evp"
      }
    },
    {
      "cell_type": "code",
      "source": [
        "df.groupBy('Make').count().withColumnRenamed('count','Total_cars')\\\n",
        "                          .withColumnRenamed('Make','Company')\\\n",
        "                          .sort(\"Total_cars\",ascending = False).show()"
      ],
      "metadata": {
        "colab": {
          "base_uri": "https://localhost:8080/"
        },
        "id": "eZXQu8GTxnoJ",
        "outputId": "8c005d8c-5cf7-4de2-d4e5-342b01e2eacf"
      },
      "execution_count": 50,
      "outputs": [
        {
          "output_type": "stream",
          "name": "stdout",
          "text": [
            "+-------------+----------+\n",
            "|      Company|Total_cars|\n",
            "+-------------+----------+\n",
            "|    Chevrolet|      1123|\n",
            "|         Ford|       881|\n",
            "|   Volkswagen|       809|\n",
            "|       Toyota|       746|\n",
            "|        Dodge|       626|\n",
            "|       Nissan|       558|\n",
            "|          GMC|       515|\n",
            "|        Honda|       449|\n",
            "|        Mazda|       423|\n",
            "|     Cadillac|       397|\n",
            "|Mercedes-Benz|       353|\n",
            "|       Suzuki|       351|\n",
            "|          BMW|       334|\n",
            "|     Infiniti|       330|\n",
            "|         Audi|       328|\n",
            "|      Hyundai|       303|\n",
            "|        Volvo|       281|\n",
            "|       Subaru|       256|\n",
            "|        Acura|       252|\n",
            "|          Kia|       231|\n",
            "+-------------+----------+\n",
            "only showing top 20 rows\n",
            "\n"
          ]
        }
      ]
    },
    {
      "cell_type": "markdown",
      "source": [
        "Total Cars per Model"
      ],
      "metadata": {
        "id": "p-Fy6jz72IDp"
      }
    },
    {
      "cell_type": "code",
      "source": [
        "df.groupBy('Make','Model').count().withColumnRenamed('count','Total_cars')\\\n",
        "                          .withColumnRenamed('Make','Company')\\\n",
        "                          .sort(\"Total_cars\",ascending = False).show()"
      ],
      "metadata": {
        "colab": {
          "base_uri": "https://localhost:8080/"
        },
        "id": "968JjrUJx3BQ",
        "outputId": "0077eb3c-037a-491f-dfda-b82e3f1ae405"
      },
      "execution_count": 51,
      "outputs": [
        {
          "output_type": "stream",
          "name": "stdout",
          "text": [
            "+----------+------------------+----------+\n",
            "|   Company|             Model|Total_cars|\n",
            "+----------+------------------+----------+\n",
            "| Chevrolet|    Silverado 1500|       156|\n",
            "|    Toyota|            Tundra|       140|\n",
            "|      Ford|             F-150|       126|\n",
            "|       GMC|       Sierra 1500|        90|\n",
            "|Volkswagen|Beetle Convertible|        89|\n",
            "|    Toyota|            Tacoma|        80|\n",
            "|    Nissan|          Frontier|        76|\n",
            "|Volkswagen|               GTI|        76|\n",
            "|Volkswagen|            Beetle|        75|\n",
            "|     Honda|            Accord|        75|\n",
            "|     Honda|             Civic|        68|\n",
            "|     Dodge|            Dakota|        65|\n",
            "|     Dodge|   Ram Pickup 1500|        62|\n",
            "|Volkswagen|             Jetta|        61|\n",
            "| Chevrolet|          Corvette|        60|\n",
            "|   Porsche|               911|        58|\n",
            "| Chevrolet|   C/K 1500 Series|        56|\n",
            "| Chevrolet|          Colorado|        54|\n",
            "|     Volvo|              XC60|        54|\n",
            "|     Mazda|                 3|        53|\n",
            "+----------+------------------+----------+\n",
            "only showing top 20 rows\n",
            "\n"
          ]
        }
      ]
    },
    {
      "cell_type": "code",
      "source": [
        "#without using agg()\n",
        "my_data_frame.groupBy('Mentor').avg('Stipend').withColumnRenamed(\"avg(Stipend)\",'avg_stipend_of_students_per_mentor').show()"
      ],
      "metadata": {
        "colab": {
          "base_uri": "https://localhost:8080/"
        },
        "id": "k9T4bO3p91B1",
        "outputId": "7151667c-ed82-416b-9d61-f8da8b7984a1"
      },
      "execution_count": 65,
      "outputs": [
        {
          "output_type": "stream",
          "name": "stdout",
          "text": [
            "+------------+----------------------------------+\n",
            "|      Mentor|avg_stipend_of_students_per_mentor|\n",
            "+------------+----------------------------------+\n",
            "|GnanaSirisha|                            4950.0|\n",
            "|    Srinivas|                            4500.0|\n",
            "|       Vinay|                            4800.0|\n",
            "|     Nusrath|                            4600.0|\n",
            "|       Pavan|                               0.0|\n",
            "+------------+----------------------------------+\n",
            "\n"
          ]
        }
      ]
    },
    {
      "cell_type": "code",
      "source": [
        "#with agg()\n",
        "from pyspark.sql.functions import avg\n",
        "my_data_frame.groupBy('Mentor')\\\n",
        "              .agg(avg('Stipend')).show()"
      ],
      "metadata": {
        "colab": {
          "base_uri": "https://localhost:8080/"
        },
        "id": "iIhpR7hz-EIa",
        "outputId": "902ff41c-0a0a-4977-bcef-e0877234ee26"
      },
      "execution_count": 73,
      "outputs": [
        {
          "output_type": "stream",
          "name": "stdout",
          "text": [
            "+------------+------------+\n",
            "|      Mentor|avg(Stipend)|\n",
            "+------------+------------+\n",
            "|GnanaSirisha|      4950.0|\n",
            "|    Srinivas|      4500.0|\n",
            "|       Vinay|      4800.0|\n",
            "|     Nusrath|      4600.0|\n",
            "|       Pavan|         0.0|\n",
            "+------------+------------+\n",
            "\n"
          ]
        }
      ]
    }
  ]
}