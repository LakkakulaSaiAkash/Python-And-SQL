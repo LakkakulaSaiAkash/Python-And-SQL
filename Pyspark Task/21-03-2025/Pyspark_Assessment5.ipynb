{
  "nbformat": 4,
  "nbformat_minor": 0,
  "metadata": {
    "colab": {
      "provenance": []
    },
    "kernelspec": {
      "name": "python3",
      "display_name": "Python 3"
    },
    "language_info": {
      "name": "python"
    }
  },
  "cells": [
    {
      "cell_type": "markdown",
      "source": [
        "Use PySpark MLlib to train a simple regression model.\n",
        "- Load a dataset for regression analysis.\n",
        "- Preprocess the data by selecting relevant features.\n",
        "- Use VectorAssembler to create feature vectors.\n",
        "- Train a regression model using LinearRegression from MLlib.\n",
        "- Evaluate model performance using RMSE and R-squared values."
      ],
      "metadata": {
        "id": "bqvRykTi-9no"
      }
    },
    {
      "cell_type": "code",
      "execution_count": null,
      "metadata": {
        "id": "9WNxWBEM665c"
      },
      "outputs": [],
      "source": [
        "from pyspark.sql import SparkSession"
      ]
    },
    {
      "cell_type": "code",
      "source": [
        "spark = SparkSession.builder.appName('Assessment5').getOrCreate()"
      ],
      "metadata": {
        "id": "94IRaxlAM0wd"
      },
      "execution_count": null,
      "outputs": []
    },
    {
      "cell_type": "code",
      "source": [
        "data = spark.read.csv(path = '/content/taxi_trip_pricing.csv',header=\"True\",inferSchema=\"True\")"
      ],
      "metadata": {
        "id": "nRCTciwiNGcy"
      },
      "execution_count": null,
      "outputs": []
    },
    {
      "cell_type": "code",
      "source": [
        "data.show(5)"
      ],
      "metadata": {
        "colab": {
          "base_uri": "https://localhost:8080/"
        },
        "id": "cigOea2qNwrf",
        "outputId": "a02421d2-bb25-47a9-a54e-589743757024"
      },
      "execution_count": null,
      "outputs": [
        {
          "output_type": "stream",
          "name": "stdout",
          "text": [
            "+----------------+-----------+-----------+---------------+------------------+-------+---------+-----------+---------------+---------------------+------------------+\n",
            "|Trip_Distance_km|Time_of_Day|Day_of_Week|Passenger_Count|Traffic_Conditions|Weather|Base_Fare|Per_Km_Rate|Per_Minute_Rate|Trip_Duration_Minutes|        Trip_Price|\n",
            "+----------------+-----------+-----------+---------------+------------------+-------+---------+-----------+---------------+---------------------+------------------+\n",
            "|           19.35|    Morning|    Weekday|              3|               Low|  Clear|     3.56|        0.8|           0.32|                53.82|           36.2624|\n",
            "|           47.59|  Afternoon|    Weekday|              1|              High|  Clear|     NULL|       0.62|           0.43|                40.57|              NULL|\n",
            "|           36.87|    Evening|    Weekend|              1|              High|  Clear|      2.7|       1.21|           0.15|                37.27|           52.9032|\n",
            "|           30.33|    Evening|    Weekday|              4|               Low|   NULL|     3.48|       0.51|           0.15|               116.81|           36.4698|\n",
            "|            NULL|    Evening|    Weekday|              3|              High|  Clear|     2.93|       0.63|           0.32|                22.64|15.618000000000002|\n",
            "+----------------+-----------+-----------+---------------+------------------+-------+---------+-----------+---------------+---------------------+------------------+\n",
            "only showing top 5 rows\n",
            "\n"
          ]
        }
      ]
    },
    {
      "cell_type": "markdown",
      "source": [
        "MLlib (Machine Learning Library) is **PySpark’s scalable ML framework designed for big data machine learning**"
      ],
      "metadata": {
        "id": "1ZPaRpvRRDZS"
      }
    },
    {
      "cell_type": "markdown",
      "source": [
        " MLlib Has 4 Key Components:\n",
        "\n",
        "-  Feature Engineering (Transform raw data into machine-readable format)\n",
        "-  Supervised Learning (Regression & Classification)\n",
        "-  Unsupervised Learning (Clustering & Recommendation)\n",
        "-  Model Evaluation & Tuning"
      ],
      "metadata": {
        "id": "t1G46tXiTc2O"
      }
    },
    {
      "cell_type": "markdown",
      "source": [
        "**Feature Engineering**\n",
        "- VectorAssembler : Combines multiple columns into a single feature vector.\n",
        "- StringIndexer : Converts categorical string values into numerical indices.\n",
        "- OneHotEncoder : Converts categorical features into binary sparse vectors.\n",
        "- StandardScaler : Scales features to have unit variance.\n",
        "- MinMaxScaler : Scales features to a given range (e.g., [0,1])."
      ],
      "metadata": {
        "id": "x2mDsMxm_Yq-"
      }
    },
    {
      "cell_type": "markdown",
      "source": [
        "**Supervised Learning**\n",
        "- LinearRegression\n",
        "- LogisticRegression : Binary classification using logistic regression.\n",
        "- DecisionTreeClassifier : Tree-based classification model.\n",
        "- RandomForestClassifier : Ensemble of decision trees for better performance.\n",
        "- GBTClassifier (Gradient-Boosted Trees) : Gradient-Boosted Trees for classification.\n",
        "\n"
      ],
      "metadata": {
        "id": "a48MqD0J_jBc"
      }
    },
    {
      "cell_type": "markdown",
      "source": [
        "**Unsupervised Learning**\n",
        "- KMeans : Partitions data into K clusters.\n",
        "- GaussianMixture : Probabilistic clustering using Gaussian Mixtures.\n",
        "- LDA (Latent Dirichlet Allocation for topic modeling) : Topic modeling algorithm for text data."
      ],
      "metadata": {
        "id": "-NSX_Uns_sNh"
      }
    },
    {
      "cell_type": "markdown",
      "source": [
        "**Model Selection & Tuning**\n",
        "- CrossValidator :\n",
        "- TrainValidationSplit\n",
        "- ParamGridBuilder"
      ],
      "metadata": {
        "id": "pAhAs_ON_xkS"
      }
    },
    {
      "cell_type": "code",
      "source": [
        "data.printSchema()"
      ],
      "metadata": {
        "colab": {
          "base_uri": "https://localhost:8080/"
        },
        "id": "FetbmpPpN0wa",
        "outputId": "fb4d9417-82e7-4b53-daa1-e96493ed811d"
      },
      "execution_count": null,
      "outputs": [
        {
          "output_type": "stream",
          "name": "stdout",
          "text": [
            "root\n",
            " |-- Trip_Distance_km: double (nullable = true)\n",
            " |-- Time_of_Day: string (nullable = true)\n",
            " |-- Day_of_Week: string (nullable = true)\n",
            " |-- Passenger_Count: integer (nullable = true)\n",
            " |-- Traffic_Conditions: string (nullable = true)\n",
            " |-- Weather: string (nullable = true)\n",
            " |-- Base_Fare: double (nullable = true)\n",
            " |-- Per_Km_Rate: double (nullable = true)\n",
            " |-- Per_Minute_Rate: double (nullable = true)\n",
            " |-- Trip_Duration_Minutes: double (nullable = true)\n",
            " |-- Trip_Price: double (nullable = true)\n",
            "\n"
          ]
        }
      ]
    },
    {
      "cell_type": "code",
      "source": [
        "from pyspark.sql.functions import sum,isnull,col\n",
        "null_counts = data.select([sum(col(c).isNull().cast(\"int\")).alias(c) for c in data.columns])\n",
        "\n",
        "null_counts.show()"
      ],
      "metadata": {
        "id": "WbcvvuUuVw-u",
        "colab": {
          "base_uri": "https://localhost:8080/"
        },
        "outputId": "12637a70-3d6c-49ab-d1ab-0e59d2b4b678"
      },
      "execution_count": null,
      "outputs": [
        {
          "output_type": "stream",
          "name": "stdout",
          "text": [
            "+----------------+-----------+-----------+---------------+------------------+-------+---------+-----------+---------------+---------------------+----------+\n",
            "|Trip_Distance_km|Time_of_Day|Day_of_Week|Passenger_Count|Traffic_Conditions|Weather|Base_Fare|Per_Km_Rate|Per_Minute_Rate|Trip_Duration_Minutes|Trip_Price|\n",
            "+----------------+-----------+-----------+---------------+------------------+-------+---------+-----------+---------------+---------------------+----------+\n",
            "|              50|         50|         50|             50|                50|     50|       50|         50|             50|                   50|        49|\n",
            "+----------------+-----------+-----------+---------------+------------------+-------+---------+-----------+---------------+---------------------+----------+\n",
            "\n"
          ]
        }
      ]
    },
    {
      "cell_type": "code",
      "source": [
        "numerical_cols = ['Trip_Distance_km', 'Passenger_Count', 'Base_Fare',\n",
        "                  'Per_Km_Rate', 'Per_Minute_Rate', 'Trip_Duration_Minutes',\n",
        "                  'Trip_Price']\n",
        "categorical_cols = ['Time_of_Day', 'Day_of_Week', 'Traffic_Conditions', 'Weather']"
      ],
      "metadata": {
        "id": "xVm3xjdrNlqS"
      },
      "execution_count": 18,
      "outputs": []
    },
    {
      "cell_type": "code",
      "source": [
        "def median_values_for_numerical_col(df, column):\n",
        "    median_value = df.approxQuantile(column, [0.5], 0.0)[0]  # Approximate median\n",
        "    return median_value"
      ],
      "metadata": {
        "id": "HD6PefHhCPLB"
      },
      "execution_count": 19,
      "outputs": []
    },
    {
      "cell_type": "code",
      "source": [
        "for col_name in numerical_cols:\n",
        "    median_value = median_values_for_numerical_col(data, col_name)\n",
        "    data = data.fillna({col_name: median_value})"
      ],
      "metadata": {
        "id": "wjRHWFGkHLdo"
      },
      "execution_count": 22,
      "outputs": []
    },
    {
      "cell_type": "code",
      "source": [
        "from pyspark.sql.functions import sum,isnull,col\n",
        "null_counts_after_num_col = data.select([sum(col(c).isNull().cast(\"int\")).alias(c) for c in data.columns])\n",
        "\n",
        "null_counts_after_num_col.show()"
      ],
      "metadata": {
        "colab": {
          "base_uri": "https://localhost:8080/"
        },
        "id": "OsXdXnKwHASj",
        "outputId": "9b0bcc70-7e6b-4242-bd2f-ac7cb31c3c59"
      },
      "execution_count": 23,
      "outputs": [
        {
          "output_type": "stream",
          "name": "stdout",
          "text": [
            "+----------------+-----------+-----------+---------------+------------------+-------+---------+-----------+---------------+---------------------+----------+\n",
            "|Trip_Distance_km|Time_of_Day|Day_of_Week|Passenger_Count|Traffic_Conditions|Weather|Base_Fare|Per_Km_Rate|Per_Minute_Rate|Trip_Duration_Minutes|Trip_Price|\n",
            "+----------------+-----------+-----------+---------------+------------------+-------+---------+-----------+---------------+---------------------+----------+\n",
            "|               0|         50|         50|              0|                50|     50|        0|          0|              0|                    0|         0|\n",
            "+----------------+-----------+-----------+---------------+------------------+-------+---------+-----------+---------------+---------------------+----------+\n",
            "\n"
          ]
        }
      ]
    },
    {
      "cell_type": "code",
      "source": [
        "from pyspark.sql.functions import desc\n",
        "def compute_mode(df, column):\n",
        "    return df.groupBy(column).count().orderBy(desc(\"count\")).first()[0]"
      ],
      "metadata": {
        "id": "qVgzvs4nHXtC"
      },
      "execution_count": 26,
      "outputs": []
    },
    {
      "cell_type": "code",
      "source": [
        "for col_name in categorical_cols:\n",
        "    mode_value = compute_mode(data, col_name)\n",
        "    data = data.fillna({col_name: mode_value})"
      ],
      "metadata": {
        "id": "0qwL1dVrOgyd"
      },
      "execution_count": 27,
      "outputs": []
    },
    {
      "cell_type": "code",
      "source": [
        "data.show()"
      ],
      "metadata": {
        "colab": {
          "base_uri": "https://localhost:8080/"
        },
        "id": "Iy90BYebOlnc",
        "outputId": "1ca11472-9826-4e8d-93e5-3a907f311e84"
      },
      "execution_count": 28,
      "outputs": [
        {
          "output_type": "stream",
          "name": "stdout",
          "text": [
            "+----------------+-----------+-----------+---------------+------------------+-------+---------+-----------+---------------+---------------------+------------------+\n",
            "|Trip_Distance_km|Time_of_Day|Day_of_Week|Passenger_Count|Traffic_Conditions|Weather|Base_Fare|Per_Km_Rate|Per_Minute_Rate|Trip_Duration_Minutes|        Trip_Price|\n",
            "+----------------+-----------+-----------+---------------+------------------+-------+---------+-----------+---------------+---------------------+------------------+\n",
            "|           19.35|    Morning|    Weekday|              3|               Low|  Clear|     3.56|        0.8|           0.32|                53.82|           36.2624|\n",
            "|           47.59|  Afternoon|    Weekday|              1|              High|  Clear|     3.52|       0.62|           0.43|                40.57| 50.07450000000001|\n",
            "|           36.87|    Evening|    Weekend|              1|              High|  Clear|      2.7|       1.21|           0.15|                37.27|           52.9032|\n",
            "|           30.33|    Evening|    Weekday|              4|               Low|  Clear|     3.48|       0.51|           0.15|               116.81|           36.4698|\n",
            "|           25.79|    Evening|    Weekday|              3|              High|  Clear|     2.93|       0.63|           0.32|                22.64|15.618000000000002|\n",
            "|            8.64|  Afternoon|    Weekend|              2|            Medium|  Clear|     2.55|       1.71|           0.48|                89.33|60.202799999999996|\n",
            "|            3.85|  Afternoon|    Weekday|              4|              High|   Rain|     3.51|       1.66|           0.29|                 5.05|           11.2645|\n",
            "|           43.44|    Evening|    Weekend|              3|               Low|  Clear|     2.97|       1.87|           0.23|                61.79|          101.1216|\n",
            "|           30.45|    Morning|    Weekday|              3|              High|  Clear|     2.77|       1.78|           0.34|               110.33| 50.07450000000001|\n",
            "|            35.7|  Afternoon|    Weekday|              2|               Low|   Rain|     3.39|       1.52|           0.47|                61.79|           75.5657|\n",
            "|           25.79|    Morning|    Weekday|              4|               Low|  Clear|      2.4|       0.58|           0.43|                26.34|            14.892|\n",
            "|           48.53|      Night|    Weekday|              3|               Low|  Clear|     4.78|       1.22|            0.5|                79.94| 50.07450000000001|\n",
            "|           41.79|      Night|    Weekend|              3|              High|  Clear|      4.6|       1.77|           0.11|                86.95| 88.13279999999999|\n",
            "|            11.4|    Morning|    Weekday|              3|               Low|  Clear|     4.12|       1.22|           0.15|                84.12|            36.118|\n",
            "|            9.91|    Evening|    Weekday|              2|              High|  Clear|     2.32|       1.26|           0.34|                41.72|28.991400000000002|\n",
            "|            9.99|      Night|    Weekday|              4|              High|  Clear|     4.33|       0.85|           0.43|                 34.0|27.441499999999998|\n",
            "|           15.91|    Morning|    Weekday|              4|               Low|  Clear|     4.42|       1.77|           0.21|               114.93|            56.716|\n",
            "|           26.71|  Afternoon|    Weekend|              4|               Low|   Rain|      4.3|       1.59|            0.2|               111.18|           69.0049|\n",
            "|           22.17|      Night|    Weekday|              4|               Low|  Clear|     2.34|       1.97|           0.41|                57.59|           69.6268|\n",
            "|           15.27|    Morning|    Weekday|              2|               Low|  Clear|     3.93|       0.73|           0.12|                61.79|27.354300000000002|\n",
            "+----------------+-----------+-----------+---------------+------------------+-------+---------+-----------+---------------+---------------------+------------------+\n",
            "only showing top 20 rows\n",
            "\n"
          ]
        }
      ]
    },
    {
      "cell_type": "code",
      "source": [
        "from pyspark.sql.functions import sum,isnull,col\n",
        "null_counts_after_allCols = data.select([sum(col(c).isNull().cast(\"int\")).alias(c) for c in data.columns])\n",
        "\n",
        "null_counts_after_allCols.show()"
      ],
      "metadata": {
        "colab": {
          "base_uri": "https://localhost:8080/"
        },
        "id": "FGGnia6LPLlr",
        "outputId": "b5d89574-cb61-439e-a399-ed6765c532fb"
      },
      "execution_count": 29,
      "outputs": [
        {
          "output_type": "stream",
          "name": "stdout",
          "text": [
            "+----------------+-----------+-----------+---------------+------------------+-------+---------+-----------+---------------+---------------------+----------+\n",
            "|Trip_Distance_km|Time_of_Day|Day_of_Week|Passenger_Count|Traffic_Conditions|Weather|Base_Fare|Per_Km_Rate|Per_Minute_Rate|Trip_Duration_Minutes|Trip_Price|\n",
            "+----------------+-----------+-----------+---------------+------------------+-------+---------+-----------+---------------+---------------------+----------+\n",
            "|               0|          0|          0|              0|                 0|      0|        0|          0|              0|                    0|         0|\n",
            "+----------------+-----------+-----------+---------------+------------------+-------+---------+-----------+---------------+---------------------+----------+\n",
            "\n"
          ]
        }
      ]
    },
    {
      "cell_type": "markdown",
      "source": [
        "Now as we have Categorical Columns in the data we'll use StringIndexer and OneHotEncoder\n",
        "\n",
        "- **StringIndexer** maps categorical values to numerical indices, assigning a unique number to each category based on frequency.\n",
        "\n",
        "**How does it assign numbers?**\n",
        "- The most frequent category gets index 0\n",
        "- The second most frequent gets 1, and so on..."
      ],
      "metadata": {
        "id": "TRiFiYwpRaSI"
      }
    },
    {
      "cell_type": "markdown",
      "source": [
        "**OneHotEncoder** converts indexed categories into binary vectors, which are more suitable for ML models.\n",
        "\n",
        "- Uses **SparseVector representation** to efficiently store one-hot encoded data.\n",
        "- Uses SparseVector format by default *((size, [indices], [values]))*\n",
        "\n"
      ],
      "metadata": {
        "id": "0FXRVk93Sxd7"
      }
    },
    {
      "cell_type": "code",
      "source": [
        "from pyspark.ml.feature import StringIndexer, OneHotEncoder"
      ],
      "metadata": {
        "id": "oVxo853kPS3s"
      },
      "execution_count": 31,
      "outputs": []
    },
    {
      "cell_type": "code",
      "source": [
        "indexers = [StringIndexer(inputCol=col, outputCol=col + \"_Index\").fit(data) for col in categorical_cols]\n",
        "for indexer in indexers:\n",
        "    data = indexer.transform(data)\n"
      ],
      "metadata": {
        "id": "oxgnWQMGWPUC"
      },
      "execution_count": 33,
      "outputs": []
    },
    {
      "cell_type": "markdown",
      "source": [
        "Here input are the columns present in the categorical_col list\n",
        "\n",
        "- output column will be the same column name with \"index\" suffix\n",
        "\n",
        "- **fit(data)** is to train the indexer to assign values based on the frequencies\n",
        "\n",
        "- **transform(data)** helps to transform the data from converting categorical values into numerical values"
      ],
      "metadata": {
        "id": "tzrVxWOqWrYd"
      }
    },
    {
      "cell_type": "code",
      "source": [
        "data.columns"
      ],
      "metadata": {
        "colab": {
          "base_uri": "https://localhost:8080/"
        },
        "id": "tzqN303CWm35",
        "outputId": "803bcae3-4545-4b86-f2f8-2100bdd11520"
      },
      "execution_count": 35,
      "outputs": [
        {
          "output_type": "execute_result",
          "data": {
            "text/plain": [
              "['Trip_Distance_km',\n",
              " 'Time_of_Day',\n",
              " 'Day_of_Week',\n",
              " 'Passenger_Count',\n",
              " 'Traffic_Conditions',\n",
              " 'Weather',\n",
              " 'Base_Fare',\n",
              " 'Per_Km_Rate',\n",
              " 'Per_Minute_Rate',\n",
              " 'Trip_Duration_Minutes',\n",
              " 'Trip_Price',\n",
              " 'Time_of_Day_Index',\n",
              " 'Day_of_Week_Index',\n",
              " 'Traffic_Conditions_Index',\n",
              " 'Weather_Index']"
            ]
          },
          "metadata": {},
          "execution_count": 35
        }
      ]
    },
    {
      "cell_type": "code",
      "source": [
        "data.show(2)"
      ],
      "metadata": {
        "colab": {
          "base_uri": "https://localhost:8080/"
        },
        "id": "Q2FKzzFpYCR9",
        "outputId": "c157f1b0-aa25-4167-bf82-8fd99c2d67be"
      },
      "execution_count": 36,
      "outputs": [
        {
          "output_type": "stream",
          "name": "stdout",
          "text": [
            "+----------------+-----------+-----------+---------------+------------------+-------+---------+-----------+---------------+---------------------+-----------------+-----------------+-----------------+------------------------+-------------+\n",
            "|Trip_Distance_km|Time_of_Day|Day_of_Week|Passenger_Count|Traffic_Conditions|Weather|Base_Fare|Per_Km_Rate|Per_Minute_Rate|Trip_Duration_Minutes|       Trip_Price|Time_of_Day_Index|Day_of_Week_Index|Traffic_Conditions_Index|Weather_Index|\n",
            "+----------------+-----------+-----------+---------------+------------------+-------+---------+-----------+---------------+---------------------+-----------------+-----------------+-----------------+------------------------+-------------+\n",
            "|           19.35|    Morning|    Weekday|              3|               Low|  Clear|     3.56|        0.8|           0.32|                53.82|          36.2624|              1.0|              0.0|                     0.0|          0.0|\n",
            "|           47.59|  Afternoon|    Weekday|              1|              High|  Clear|     3.52|       0.62|           0.43|                40.57|50.07450000000001|              0.0|              0.0|                     2.0|          0.0|\n",
            "+----------------+-----------+-----------+---------------+------------------+-------+---------+-----------+---------------+---------------------+-----------------+-----------------+-----------------+------------------------+-------------+\n",
            "only showing top 2 rows\n",
            "\n"
          ]
        }
      ]
    },
    {
      "cell_type": "code",
      "source": [
        "# now apply one hot encoding on the string indexer\n",
        "\n",
        "encoder = OneHotEncoder(inputCols=[col + \"_Index\" for col in categorical_cols],\n",
        "                        outputCols=[col + \"_OneHot\" for col in categorical_cols])\n",
        "model = encoder.fit(data)\n",
        "data = model.transform(data)"
      ],
      "metadata": {
        "id": "-_X9frKcYxfL"
      },
      "execution_count": 37,
      "outputs": []
    },
    {
      "cell_type": "markdown",
      "source": [
        "***Can't we use only StringIndexer to train the model ? ***\n",
        "\n",
        "- Yes, it can be done but it depends upon the use case like if we are performing ML algos like decision trees, random forest, etc which do not assume any relationship between numerical values and can deal with the indexes directly\n",
        "but not in algos like Linear regressions etc"
      ],
      "metadata": {
        "id": "B-xYwauVZ9kt"
      }
    },
    {
      "cell_type": "code",
      "source": [
        "data.columns"
      ],
      "metadata": {
        "colab": {
          "base_uri": "https://localhost:8080/"
        },
        "id": "m9REyvQUZ792",
        "outputId": "01a4f942-98ac-4d57-ec72-ae40fe22ff6e"
      },
      "execution_count": 38,
      "outputs": [
        {
          "output_type": "execute_result",
          "data": {
            "text/plain": [
              "['Trip_Distance_km',\n",
              " 'Time_of_Day',\n",
              " 'Day_of_Week',\n",
              " 'Passenger_Count',\n",
              " 'Traffic_Conditions',\n",
              " 'Weather',\n",
              " 'Base_Fare',\n",
              " 'Per_Km_Rate',\n",
              " 'Per_Minute_Rate',\n",
              " 'Trip_Duration_Minutes',\n",
              " 'Trip_Price',\n",
              " 'Time_of_Day_Index',\n",
              " 'Day_of_Week_Index',\n",
              " 'Traffic_Conditions_Index',\n",
              " 'Weather_Index',\n",
              " 'Time_of_Day_OneHot',\n",
              " 'Day_of_Week_OneHot',\n",
              " 'Traffic_Conditions_OneHot',\n",
              " 'Weather_OneHot']"
            ]
          },
          "metadata": {},
          "execution_count": 38
        }
      ]
    },
    {
      "cell_type": "code",
      "source": [
        "data.show(2)"
      ],
      "metadata": {
        "colab": {
          "base_uri": "https://localhost:8080/"
        },
        "id": "-1v4miSdcK4c",
        "outputId": "24bca9f4-d7c5-42f1-9fa8-9625cded6b9b"
      },
      "execution_count": 39,
      "outputs": [
        {
          "output_type": "stream",
          "name": "stdout",
          "text": [
            "+----------------+-----------+-----------+---------------+------------------+-------+---------+-----------+---------------+---------------------+-----------------+-----------------+-----------------+------------------------+-------------+------------------+------------------+-------------------------+--------------+\n",
            "|Trip_Distance_km|Time_of_Day|Day_of_Week|Passenger_Count|Traffic_Conditions|Weather|Base_Fare|Per_Km_Rate|Per_Minute_Rate|Trip_Duration_Minutes|       Trip_Price|Time_of_Day_Index|Day_of_Week_Index|Traffic_Conditions_Index|Weather_Index|Time_of_Day_OneHot|Day_of_Week_OneHot|Traffic_Conditions_OneHot|Weather_OneHot|\n",
            "+----------------+-----------+-----------+---------------+------------------+-------+---------+-----------+---------------+---------------------+-----------------+-----------------+-----------------+------------------------+-------------+------------------+------------------+-------------------------+--------------+\n",
            "|           19.35|    Morning|    Weekday|              3|               Low|  Clear|     3.56|        0.8|           0.32|                53.82|          36.2624|              1.0|              0.0|                     0.0|          0.0|     (3,[1],[1.0])|     (1,[0],[1.0])|            (2,[0],[1.0])| (2,[0],[1.0])|\n",
            "|           47.59|  Afternoon|    Weekday|              1|              High|  Clear|     3.52|       0.62|           0.43|                40.57|50.07450000000001|              0.0|              0.0|                     2.0|          0.0|     (3,[0],[1.0])|     (1,[0],[1.0])|                (2,[],[])| (2,[0],[1.0])|\n",
            "+----------------+-----------+-----------+---------------+------------------+-------+---------+-----------+---------------+---------------------+-----------------+-----------------+-----------------+------------------------+-------------+------------------+------------------+-------------------------+--------------+\n",
            "only showing top 2 rows\n",
            "\n"
          ]
        }
      ]
    },
    {
      "cell_type": "code",
      "source": [
        "# now adding all the numerical columns\n",
        "\n",
        "all_features = numerical_cols + [col + \"_OneHot\" for col in categorical_cols]\n",
        "all_features"
      ],
      "metadata": {
        "colab": {
          "base_uri": "https://localhost:8080/"
        },
        "id": "k1SUGNO3cNQM",
        "outputId": "d1a4f799-6229-4a6b-c8e4-56c268412f5a"
      },
      "execution_count": 41,
      "outputs": [
        {
          "output_type": "execute_result",
          "data": {
            "text/plain": [
              "['Trip_Distance_km',\n",
              " 'Passenger_Count',\n",
              " 'Base_Fare',\n",
              " 'Per_Km_Rate',\n",
              " 'Per_Minute_Rate',\n",
              " 'Trip_Duration_Minutes',\n",
              " 'Trip_Price',\n",
              " 'Time_of_Day_OneHot',\n",
              " 'Day_of_Week_OneHot',\n",
              " 'Traffic_Conditions_OneHot',\n",
              " 'Weather_OneHot']"
            ]
          },
          "metadata": {},
          "execution_count": 41
        }
      ]
    },
    {
      "cell_type": "code",
      "source": [
        "from pyspark.ml.feature import VectorAssembler\n",
        "\n",
        "assembler = VectorAssembler(inputCols=all_features, outputCol=\"features\")\n",
        "\n",
        "\n",
        "data = assembler.transform(data)"
      ],
      "metadata": {
        "id": "bDLg8_GJffWs"
      },
      "execution_count": 44,
      "outputs": []
    },
    {
      "cell_type": "code",
      "source": [
        "data.show()"
      ],
      "metadata": {
        "colab": {
          "base_uri": "https://localhost:8080/"
        },
        "id": "FTRo0gSkfp22",
        "outputId": "4b2585cb-5446-4a95-c9d7-9c0bab9a40e9"
      },
      "execution_count": 45,
      "outputs": [
        {
          "output_type": "stream",
          "name": "stdout",
          "text": [
            "+----------------+-----------+-----------+---------------+------------------+-------+---------+-----------+---------------+---------------------+------------------+-----------------+-----------------+------------------------+-------------+------------------+------------------+-------------------------+--------------+--------------------+\n",
            "|Trip_Distance_km|Time_of_Day|Day_of_Week|Passenger_Count|Traffic_Conditions|Weather|Base_Fare|Per_Km_Rate|Per_Minute_Rate|Trip_Duration_Minutes|        Trip_Price|Time_of_Day_Index|Day_of_Week_Index|Traffic_Conditions_Index|Weather_Index|Time_of_Day_OneHot|Day_of_Week_OneHot|Traffic_Conditions_OneHot|Weather_OneHot|            features|\n",
            "+----------------+-----------+-----------+---------------+------------------+-------+---------+-----------+---------------+---------------------+------------------+-----------------+-----------------+------------------------+-------------+------------------+------------------+-------------------------+--------------+--------------------+\n",
            "|           19.35|    Morning|    Weekday|              3|               Low|  Clear|     3.56|        0.8|           0.32|                53.82|           36.2624|              1.0|              0.0|                     0.0|          0.0|     (3,[1],[1.0])|     (1,[0],[1.0])|            (2,[0],[1.0])| (2,[0],[1.0])|[19.35,3.0,3.56,0...|\n",
            "|           47.59|  Afternoon|    Weekday|              1|              High|  Clear|     3.52|       0.62|           0.43|                40.57| 50.07450000000001|              0.0|              0.0|                     2.0|          0.0|     (3,[0],[1.0])|     (1,[0],[1.0])|                (2,[],[])| (2,[0],[1.0])|[47.59,1.0,3.52,0...|\n",
            "|           36.87|    Evening|    Weekend|              1|              High|  Clear|      2.7|       1.21|           0.15|                37.27|           52.9032|              2.0|              1.0|                     2.0|          0.0|     (3,[2],[1.0])|         (1,[],[])|                (2,[],[])| (2,[0],[1.0])|[36.87,1.0,2.7,1....|\n",
            "|           30.33|    Evening|    Weekday|              4|               Low|  Clear|     3.48|       0.51|           0.15|               116.81|           36.4698|              2.0|              0.0|                     0.0|          0.0|     (3,[2],[1.0])|     (1,[0],[1.0])|            (2,[0],[1.0])| (2,[0],[1.0])|[30.33,4.0,3.48,0...|\n",
            "|           25.79|    Evening|    Weekday|              3|              High|  Clear|     2.93|       0.63|           0.32|                22.64|15.618000000000002|              2.0|              0.0|                     2.0|          0.0|     (3,[2],[1.0])|     (1,[0],[1.0])|                (2,[],[])| (2,[0],[1.0])|[25.79,3.0,2.93,0...|\n",
            "|            8.64|  Afternoon|    Weekend|              2|            Medium|  Clear|     2.55|       1.71|           0.48|                89.33|60.202799999999996|              0.0|              1.0|                     1.0|          0.0|     (3,[0],[1.0])|         (1,[],[])|            (2,[1],[1.0])| (2,[0],[1.0])|[8.64,2.0,2.55,1....|\n",
            "|            3.85|  Afternoon|    Weekday|              4|              High|   Rain|     3.51|       1.66|           0.29|                 5.05|           11.2645|              0.0|              0.0|                     2.0|          1.0|     (3,[0],[1.0])|     (1,[0],[1.0])|                (2,[],[])| (2,[1],[1.0])|[3.85,4.0,3.51,1....|\n",
            "|           43.44|    Evening|    Weekend|              3|               Low|  Clear|     2.97|       1.87|           0.23|                61.79|          101.1216|              2.0|              1.0|                     0.0|          0.0|     (3,[2],[1.0])|         (1,[],[])|            (2,[0],[1.0])| (2,[0],[1.0])|[43.44,3.0,2.97,1...|\n",
            "|           30.45|    Morning|    Weekday|              3|              High|  Clear|     2.77|       1.78|           0.34|               110.33| 50.07450000000001|              1.0|              0.0|                     2.0|          0.0|     (3,[1],[1.0])|     (1,[0],[1.0])|                (2,[],[])| (2,[0],[1.0])|[30.45,3.0,2.77,1...|\n",
            "|            35.7|  Afternoon|    Weekday|              2|               Low|   Rain|     3.39|       1.52|           0.47|                61.79|           75.5657|              0.0|              0.0|                     0.0|          1.0|     (3,[0],[1.0])|     (1,[0],[1.0])|            (2,[0],[1.0])| (2,[1],[1.0])|[35.7,2.0,3.39,1....|\n",
            "|           25.79|    Morning|    Weekday|              4|               Low|  Clear|      2.4|       0.58|           0.43|                26.34|            14.892|              1.0|              0.0|                     0.0|          0.0|     (3,[1],[1.0])|     (1,[0],[1.0])|            (2,[0],[1.0])| (2,[0],[1.0])|[25.79,4.0,2.4,0....|\n",
            "|           48.53|      Night|    Weekday|              3|               Low|  Clear|     4.78|       1.22|            0.5|                79.94| 50.07450000000001|              3.0|              0.0|                     0.0|          0.0|         (3,[],[])|     (1,[0],[1.0])|            (2,[0],[1.0])| (2,[0],[1.0])|[48.53,3.0,4.78,1...|\n",
            "|           41.79|      Night|    Weekend|              3|              High|  Clear|      4.6|       1.77|           0.11|                86.95| 88.13279999999999|              3.0|              1.0|                     2.0|          0.0|         (3,[],[])|         (1,[],[])|                (2,[],[])| (2,[0],[1.0])|(15,[0,1,2,3,4,5,...|\n",
            "|            11.4|    Morning|    Weekday|              3|               Low|  Clear|     4.12|       1.22|           0.15|                84.12|            36.118|              1.0|              0.0|                     0.0|          0.0|     (3,[1],[1.0])|     (1,[0],[1.0])|            (2,[0],[1.0])| (2,[0],[1.0])|[11.4,3.0,4.12,1....|\n",
            "|            9.91|    Evening|    Weekday|              2|              High|  Clear|     2.32|       1.26|           0.34|                41.72|28.991400000000002|              2.0|              0.0|                     2.0|          0.0|     (3,[2],[1.0])|     (1,[0],[1.0])|                (2,[],[])| (2,[0],[1.0])|[9.91,2.0,2.32,1....|\n",
            "|            9.99|      Night|    Weekday|              4|              High|  Clear|     4.33|       0.85|           0.43|                 34.0|27.441499999999998|              3.0|              0.0|                     2.0|          0.0|         (3,[],[])|     (1,[0],[1.0])|                (2,[],[])| (2,[0],[1.0])|[9.99,4.0,4.33,0....|\n",
            "|           15.91|    Morning|    Weekday|              4|               Low|  Clear|     4.42|       1.77|           0.21|               114.93|            56.716|              1.0|              0.0|                     0.0|          0.0|     (3,[1],[1.0])|     (1,[0],[1.0])|            (2,[0],[1.0])| (2,[0],[1.0])|[15.91,4.0,4.42,1...|\n",
            "|           26.71|  Afternoon|    Weekend|              4|               Low|   Rain|      4.3|       1.59|            0.2|               111.18|           69.0049|              0.0|              1.0|                     0.0|          1.0|     (3,[0],[1.0])|         (1,[],[])|            (2,[0],[1.0])| (2,[1],[1.0])|[26.71,4.0,4.3,1....|\n",
            "|           22.17|      Night|    Weekday|              4|               Low|  Clear|     2.34|       1.97|           0.41|                57.59|           69.6268|              3.0|              0.0|                     0.0|          0.0|         (3,[],[])|     (1,[0],[1.0])|            (2,[0],[1.0])| (2,[0],[1.0])|[22.17,4.0,2.34,1...|\n",
            "|           15.27|    Morning|    Weekday|              2|               Low|  Clear|     3.93|       0.73|           0.12|                61.79|27.354300000000002|              1.0|              0.0|                     0.0|          0.0|     (3,[1],[1.0])|     (1,[0],[1.0])|            (2,[0],[1.0])| (2,[0],[1.0])|[15.27,2.0,3.93,0...|\n",
            "+----------------+-----------+-----------+---------------+------------------+-------+---------+-----------+---------------+---------------------+------------------+-----------------+-----------------+------------------------+-------------+------------------+------------------+-------------------------+--------------+--------------------+\n",
            "only showing top 20 rows\n",
            "\n"
          ]
        }
      ]
    },
    {
      "cell_type": "markdown",
      "source": [
        "vector is created at the end of the table where it is list of all the numerical_col values followed by categorical col values i.e. after encoded seperated by a comma\n",
        "\n",
        "**Why Vector Assembly ? **\n",
        "\n",
        "- Machine learning models in PySpark require a single feature column in vector format."
      ],
      "metadata": {
        "id": "bVrzbntXgHYL"
      }
    },
    {
      "cell_type": "code",
      "source": [
        "data.select(\"features\").show(truncate=False)"
      ],
      "metadata": {
        "colab": {
          "base_uri": "https://localhost:8080/"
        },
        "id": "5KomXPM6f5c4",
        "outputId": "7bc3480a-1f43-4ce0-92ec-4b35cc353f9f"
      },
      "execution_count": 48,
      "outputs": [
        {
          "output_type": "stream",
          "name": "stdout",
          "text": [
            "+-----------------------------------------------------------------------------------+\n",
            "|features                                                                           |\n",
            "+-----------------------------------------------------------------------------------+\n",
            "|[19.35,3.0,3.56,0.8,0.32,53.82,36.2624,0.0,1.0,0.0,1.0,1.0,0.0,1.0,0.0]            |\n",
            "|[47.59,1.0,3.52,0.62,0.43,40.57,50.07450000000001,1.0,0.0,0.0,1.0,0.0,0.0,1.0,0.0] |\n",
            "|[36.87,1.0,2.7,1.21,0.15,37.27,52.9032,0.0,0.0,1.0,0.0,0.0,0.0,1.0,0.0]            |\n",
            "|[30.33,4.0,3.48,0.51,0.15,116.81,36.4698,0.0,0.0,1.0,1.0,1.0,0.0,1.0,0.0]          |\n",
            "|[25.79,3.0,2.93,0.63,0.32,22.64,15.618000000000002,0.0,0.0,1.0,1.0,0.0,0.0,1.0,0.0]|\n",
            "|[8.64,2.0,2.55,1.71,0.48,89.33,60.202799999999996,1.0,0.0,0.0,0.0,0.0,1.0,1.0,0.0] |\n",
            "|[3.85,4.0,3.51,1.66,0.29,5.05,11.2645,1.0,0.0,0.0,1.0,0.0,0.0,0.0,1.0]             |\n",
            "|[43.44,3.0,2.97,1.87,0.23,61.79,101.1216,0.0,0.0,1.0,0.0,1.0,0.0,1.0,0.0]          |\n",
            "|[30.45,3.0,2.77,1.78,0.34,110.33,50.07450000000001,0.0,1.0,0.0,1.0,0.0,0.0,1.0,0.0]|\n",
            "|[35.7,2.0,3.39,1.52,0.47,61.79,75.5657,1.0,0.0,0.0,1.0,1.0,0.0,0.0,1.0]            |\n",
            "|[25.79,4.0,2.4,0.58,0.43,26.34,14.892,0.0,1.0,0.0,1.0,1.0,0.0,1.0,0.0]             |\n",
            "|[48.53,3.0,4.78,1.22,0.5,79.94,50.07450000000001,0.0,0.0,0.0,1.0,1.0,0.0,1.0,0.0]  |\n",
            "|(15,[0,1,2,3,4,5,6,13],[41.79,3.0,4.6,1.77,0.11,86.95,88.13279999999999,1.0])      |\n",
            "|[11.4,3.0,4.12,1.22,0.15,84.12,36.118,0.0,1.0,0.0,1.0,1.0,0.0,1.0,0.0]             |\n",
            "|[9.91,2.0,2.32,1.26,0.34,41.72,28.991400000000002,0.0,0.0,1.0,1.0,0.0,0.0,1.0,0.0] |\n",
            "|[9.99,4.0,4.33,0.85,0.43,34.0,27.441499999999998,0.0,0.0,0.0,1.0,0.0,0.0,1.0,0.0]  |\n",
            "|[15.91,4.0,4.42,1.77,0.21,114.93,56.716,0.0,1.0,0.0,1.0,1.0,0.0,1.0,0.0]           |\n",
            "|[26.71,4.0,4.3,1.59,0.2,111.18,69.0049,1.0,0.0,0.0,0.0,1.0,0.0,0.0,1.0]            |\n",
            "|[22.17,4.0,2.34,1.97,0.41,57.59,69.6268,0.0,0.0,0.0,1.0,1.0,0.0,1.0,0.0]           |\n",
            "|[15.27,2.0,3.93,0.73,0.12,61.79,27.354300000000002,0.0,1.0,0.0,1.0,1.0,0.0,1.0,0.0]|\n",
            "+-----------------------------------------------------------------------------------+\n",
            "only showing top 20 rows\n",
            "\n"
          ]
        }
      ]
    },
    {
      "cell_type": "markdown",
      "source": [
        "Here:\n",
        "- If the vectors are enclosed in a tuple then that representation is Sparse Vector Representation i.e. when most of the values are Zeros\n",
        "- IF the vectors are not enclosed in a tuple then it is a dense vector representation and when are mostly non-zeros"
      ],
      "metadata": {
        "id": "S0Ld0rC-hXLZ"
      }
    },
    {
      "cell_type": "code",
      "source": [
        "from pyspark.ml.regression import LinearRegression\n",
        "from pyspark.ml.evaluation import RegressionEvaluator"
      ],
      "metadata": {
        "id": "zSCiCTulg0WT"
      },
      "execution_count": 49,
      "outputs": []
    },
    {
      "cell_type": "code",
      "source": [
        "target_col = 'Trip_Price'"
      ],
      "metadata": {
        "id": "s7DrlwY9ix9I"
      },
      "execution_count": 54,
      "outputs": []
    },
    {
      "cell_type": "code",
      "source": [
        "final_data_model = data.select('features',target_col)"
      ],
      "metadata": {
        "id": "VUjNBcDijmBS"
      },
      "execution_count": 55,
      "outputs": []
    },
    {
      "cell_type": "code",
      "source": [
        "final_data_model.show(3)"
      ],
      "metadata": {
        "colab": {
          "base_uri": "https://localhost:8080/"
        },
        "id": "v2dpEvR3kUVX",
        "outputId": "f07986f5-669d-46a6-85f2-cbe044042ed5"
      },
      "execution_count": 57,
      "outputs": [
        {
          "output_type": "stream",
          "name": "stdout",
          "text": [
            "+--------------------+-----------------+\n",
            "|            features|       Trip_Price|\n",
            "+--------------------+-----------------+\n",
            "|[19.35,3.0,3.56,0...|          36.2624|\n",
            "|[47.59,1.0,3.52,0...|50.07450000000001|\n",
            "|[36.87,1.0,2.7,1....|          52.9032|\n",
            "+--------------------+-----------------+\n",
            "only showing top 3 rows\n",
            "\n"
          ]
        }
      ]
    },
    {
      "cell_type": "code",
      "source": [
        "train_df, test_df = final_data_model.randomSplit([0.7, 0.3], seed=42)\n"
      ],
      "metadata": {
        "id": "-Rd2G7wpkWIE"
      },
      "execution_count": 60,
      "outputs": []
    },
    {
      "cell_type": "code",
      "source": [
        "lr = LinearRegression(featuresCol=\"features\", labelCol=target_col)\n",
        "lr_model = lr.fit(train_df)\n"
      ],
      "metadata": {
        "id": "OQlnVHR-lakm"
      },
      "execution_count": 62,
      "outputs": []
    },
    {
      "cell_type": "code",
      "source": [
        "predict_the_tripPrice = lr_model.transform(test_df)"
      ],
      "metadata": {
        "id": "rFWcRjLCnjSy"
      },
      "execution_count": 64,
      "outputs": []
    },
    {
      "cell_type": "code",
      "source": [
        "evaluate_rmse = RegressionEvaluator(labelCol=target_col, metricName=\"rmse\")\n",
        "evaluate_r2 = RegressionEvaluator(labelCol=target_col, metricName=\"r2\")"
      ],
      "metadata": {
        "id": "MeK_NUK6npYQ"
      },
      "execution_count": 65,
      "outputs": []
    },
    {
      "cell_type": "code",
      "source": [
        "evaluate_rmse , evaluate_r2"
      ],
      "metadata": {
        "colab": {
          "base_uri": "https://localhost:8080/"
        },
        "id": "N63-E6cPnynm",
        "outputId": "61c8d7e5-5e14-4255-89aa-a289347767cd"
      },
      "execution_count": 67,
      "outputs": [
        {
          "output_type": "execute_result",
          "data": {
            "text/plain": [
              "(RegressionEvaluator_0dc0b663b674, RegressionEvaluator_f9542dae1b05)"
            ]
          },
          "metadata": {},
          "execution_count": 67
        }
      ]
    },
    {
      "cell_type": "code",
      "source": [
        "rmse = evaluate_rmse.evaluate(predict_the_tripPrice)\n",
        "r2 = evaluate_r2.evaluate(predict_the_tripPrice)"
      ],
      "metadata": {
        "id": "tqoT3Ecfn0Or"
      },
      "execution_count": 70,
      "outputs": []
    },
    {
      "cell_type": "code",
      "source": [
        "rmse,r2"
      ],
      "metadata": {
        "colab": {
          "base_uri": "https://localhost:8080/"
        },
        "id": "rQEevsXhn6Dy",
        "outputId": "0d9732bf-ee5e-435d-ae6c-c6b454b97338"
      },
      "execution_count": 72,
      "outputs": [
        {
          "output_type": "execute_result",
          "data": {
            "text/plain": [
              "(1.8876695734522429e-13, 1.0)"
            ]
          },
          "metadata": {},
          "execution_count": 72
        }
      ]
    }
  ]
}